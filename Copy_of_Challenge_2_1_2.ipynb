{
  "cells": [
    {
      "cell_type": "markdown",
      "metadata": {
        "id": "mH-7xifmphKs"
      },
      "source": [
        "# Library"
      ]
    },
    {
      "cell_type": "code",
      "execution_count": null,
      "metadata": {
        "id": "CC-naEQppfj5"
      },
      "outputs": [],
      "source": [
        "import numpy as np # linear algebra\n",
        "import pandas as pd # data processing, CSV file I/O (e.g. pd.read_csv)\n",
        "import matplotlib.pyplot as plt\n",
        "import seaborn as sns\n",
        "import matplotlib.patches as mpatches\n",
        "import time\n",
        "import plotly.express as px\n",
        "import io\n",
        "# Classifier Libraries\n",
        "from sklearn.svm import SVC\n",
        "import collections\n",
        "\n",
        "from sklearn.preprocessing import MinMaxScaler\n",
        "# Other Libraries\n",
        "from sklearn.model_selection import train_test_split\n",
        "from sklearn.pipeline import make_pipeline\n",
        "from imblearn.pipeline import make_pipeline as imbalanced_make_pipeline\n",
        "from imblearn.under_sampling import NearMiss\n",
        "from imblearn.metrics import classification_report_imbalanced\n",
        "from sklearn.metrics import precision_score, recall_score, f1_score, roc_auc_score, accuracy_score, classification_report\n",
        "from collections import Counter\n",
        "from sklearn.model_selection import KFold, StratifiedKFold\n",
        "import warnings\n",
        "warnings.filterwarnings(\"ignore\")\n"
      ]
    },
    {
      "cell_type": "markdown",
      "metadata": {
        "id": "4SvzPR25qWue"
      },
      "source": [
        "# Data Preparation\n",
        "\n"
      ]
    },
    {
      "cell_type": "markdown",
      "metadata": {
        "id": "J-LFdB5krVwT"
      },
      "source": [
        "## Load Data"
      ]
    },
    {
      "cell_type": "code",
      "execution_count": 1,
      "metadata": {
        "colab": {
          "base_uri": "https://localhost:8080/",
          "height": 345
        },
        "id": "U_pbX4naIl8Y",
        "outputId": "e7cbea68-3abd-4f6c-a24c-00f178d50187"
      },
      "outputs": [
        {
          "output_type": "error",
          "ename": "MessageError",
          "evalue": "ignored",
          "traceback": [
            "\u001b[0;31m---------------------------------------------------------------------------\u001b[0m",
            "\u001b[0;31mMessageError\u001b[0m                              Traceback (most recent call last)",
            "\u001b[0;32m<ipython-input-1-d5df0069828e>\u001b[0m in \u001b[0;36m<module>\u001b[0;34m\u001b[0m\n\u001b[1;32m      1\u001b[0m \u001b[0;32mfrom\u001b[0m \u001b[0mgoogle\u001b[0m\u001b[0;34m.\u001b[0m\u001b[0mcolab\u001b[0m \u001b[0;32mimport\u001b[0m \u001b[0mdrive\u001b[0m\u001b[0;34m\u001b[0m\u001b[0;34m\u001b[0m\u001b[0m\n\u001b[0;32m----> 2\u001b[0;31m \u001b[0mdrive\u001b[0m\u001b[0;34m.\u001b[0m\u001b[0mmount\u001b[0m\u001b[0;34m(\u001b[0m\u001b[0;34m'/content/drive'\u001b[0m\u001b[0;34m)\u001b[0m\u001b[0;34m\u001b[0m\u001b[0;34m\u001b[0m\u001b[0m\n\u001b[0m",
            "\u001b[0;32m/usr/local/lib/python3.7/dist-packages/google/colab/drive.py\u001b[0m in \u001b[0;36mmount\u001b[0;34m(mountpoint, force_remount, timeout_ms, readonly)\u001b[0m\n\u001b[1;32m    104\u001b[0m       \u001b[0mtimeout_ms\u001b[0m\u001b[0;34m=\u001b[0m\u001b[0mtimeout_ms\u001b[0m\u001b[0;34m,\u001b[0m\u001b[0;34m\u001b[0m\u001b[0;34m\u001b[0m\u001b[0m\n\u001b[1;32m    105\u001b[0m       \u001b[0mephemeral\u001b[0m\u001b[0;34m=\u001b[0m\u001b[0;32mTrue\u001b[0m\u001b[0;34m,\u001b[0m\u001b[0;34m\u001b[0m\u001b[0;34m\u001b[0m\u001b[0m\n\u001b[0;32m--> 106\u001b[0;31m       readonly=readonly)\n\u001b[0m\u001b[1;32m    107\u001b[0m \u001b[0;34m\u001b[0m\u001b[0m\n\u001b[1;32m    108\u001b[0m \u001b[0;34m\u001b[0m\u001b[0m\n",
            "\u001b[0;32m/usr/local/lib/python3.7/dist-packages/google/colab/drive.py\u001b[0m in \u001b[0;36m_mount\u001b[0;34m(mountpoint, force_remount, timeout_ms, ephemeral, readonly)\u001b[0m\n\u001b[1;32m    123\u001b[0m   \u001b[0;32mif\u001b[0m \u001b[0mephemeral\u001b[0m\u001b[0;34m:\u001b[0m\u001b[0;34m\u001b[0m\u001b[0;34m\u001b[0m\u001b[0m\n\u001b[1;32m    124\u001b[0m     _message.blocking_request(\n\u001b[0;32m--> 125\u001b[0;31m         'request_auth', request={'authType': 'dfs_ephemeral'}, timeout_sec=None)\n\u001b[0m\u001b[1;32m    126\u001b[0m \u001b[0;34m\u001b[0m\u001b[0m\n\u001b[1;32m    127\u001b[0m   \u001b[0mmountpoint\u001b[0m \u001b[0;34m=\u001b[0m \u001b[0m_os\u001b[0m\u001b[0;34m.\u001b[0m\u001b[0mpath\u001b[0m\u001b[0;34m.\u001b[0m\u001b[0mexpanduser\u001b[0m\u001b[0;34m(\u001b[0m\u001b[0mmountpoint\u001b[0m\u001b[0;34m)\u001b[0m\u001b[0;34m\u001b[0m\u001b[0;34m\u001b[0m\u001b[0m\n",
            "\u001b[0;32m/usr/local/lib/python3.7/dist-packages/google/colab/_message.py\u001b[0m in \u001b[0;36mblocking_request\u001b[0;34m(request_type, request, timeout_sec, parent)\u001b[0m\n\u001b[1;32m    169\u001b[0m   request_id = send_request(\n\u001b[1;32m    170\u001b[0m       request_type, request, parent=parent, expect_reply=True)\n\u001b[0;32m--> 171\u001b[0;31m   \u001b[0;32mreturn\u001b[0m \u001b[0mread_reply_from_input\u001b[0m\u001b[0;34m(\u001b[0m\u001b[0mrequest_id\u001b[0m\u001b[0;34m,\u001b[0m \u001b[0mtimeout_sec\u001b[0m\u001b[0;34m)\u001b[0m\u001b[0;34m\u001b[0m\u001b[0;34m\u001b[0m\u001b[0m\n\u001b[0m",
            "\u001b[0;32m/usr/local/lib/python3.7/dist-packages/google/colab/_message.py\u001b[0m in \u001b[0;36mread_reply_from_input\u001b[0;34m(message_id, timeout_sec)\u001b[0m\n\u001b[1;32m    100\u001b[0m         reply.get('colab_msg_id') == message_id):\n\u001b[1;32m    101\u001b[0m       \u001b[0;32mif\u001b[0m \u001b[0;34m'error'\u001b[0m \u001b[0;32min\u001b[0m \u001b[0mreply\u001b[0m\u001b[0;34m:\u001b[0m\u001b[0;34m\u001b[0m\u001b[0;34m\u001b[0m\u001b[0m\n\u001b[0;32m--> 102\u001b[0;31m         \u001b[0;32mraise\u001b[0m \u001b[0mMessageError\u001b[0m\u001b[0;34m(\u001b[0m\u001b[0mreply\u001b[0m\u001b[0;34m[\u001b[0m\u001b[0;34m'error'\u001b[0m\u001b[0;34m]\u001b[0m\u001b[0;34m)\u001b[0m\u001b[0;34m\u001b[0m\u001b[0;34m\u001b[0m\u001b[0m\n\u001b[0m\u001b[1;32m    103\u001b[0m       \u001b[0;32mreturn\u001b[0m \u001b[0mreply\u001b[0m\u001b[0;34m.\u001b[0m\u001b[0mget\u001b[0m\u001b[0;34m(\u001b[0m\u001b[0;34m'data'\u001b[0m\u001b[0;34m,\u001b[0m \u001b[0;32mNone\u001b[0m\u001b[0;34m)\u001b[0m\u001b[0;34m\u001b[0m\u001b[0;34m\u001b[0m\u001b[0m\n\u001b[1;32m    104\u001b[0m \u001b[0;34m\u001b[0m\u001b[0m\n",
            "\u001b[0;31mMessageError\u001b[0m: Error: credential propagation was unsuccessful"
          ]
        }
      ],
      "source": [
        "from google.colab import drive\n",
        "drive.mount('/content/drive')"
      ]
    },
    {
      "cell_type": "code",
      "execution_count": null,
      "metadata": {
        "id": "9yTiv4XzIqkN"
      },
      "outputs": [],
      "source": [
        "df_train = pd.read_csv('/content/drive/MyDrive/Colab Notebooks/FGA/train.csv')\n",
        "\n",
        "df_test = pd.read_csv('/content/drive/MyDrive/Colab Notebooks/FGA/test.csv')"
      ]
    },
    {
      "cell_type": "code",
      "execution_count": null,
      "metadata": {
        "id": "IyHy66SRsBuB"
      },
      "outputs": [],
      "source": [
        "df_train.head()"
      ]
    },
    {
      "cell_type": "code",
      "execution_count": null,
      "metadata": {
        "id": "IfWi4_qwsBkp"
      },
      "outputs": [],
      "source": [
        "df_train.info()"
      ]
    },
    {
      "cell_type": "code",
      "execution_count": null,
      "metadata": {
        "id": "DRZsGk7wtpHF"
      },
      "outputs": [],
      "source": [
        "def get_cat_cols(df):\n",
        "    num=list(df.columns[df.dtypes=='object'])\n",
        "    return num\n",
        "    \n",
        "def get_num_cols(df):\n",
        "    cat=list(df.columns[df.dtypes=='int64'])+list(df.columns[df.dtypes=='int32'])+list(df.columns[df.dtypes=='float64'])\n",
        "    return cat"
      ]
    },
    {
      "cell_type": "markdown",
      "metadata": {
        "id": "KLGE5TNEsShy"
      },
      "source": [
        "## EDA"
      ]
    },
    {
      "cell_type": "markdown",
      "metadata": {
        "id": "J54_YN-ZsbjY"
      },
      "source": [
        "### Data Quality Checking"
      ]
    },
    {
      "cell_type": "code",
      "execution_count": null,
      "metadata": {
        "id": "7P71h8orsi1B"
      },
      "outputs": [],
      "source": [
        "#function for missing value\n",
        "\n",
        "def missing (df_train):\n",
        "    missing_number = df_train.isnull().sum().sort_values(ascending=False)\n",
        "    missing_percent = (df_train.isnull().sum()/df_train.isnull().count()).sort_values(ascending=False)\n",
        "    missing_values = pd.concat([missing_number, missing_percent], axis=1, keys=['Missing_Number', 'Missing_Percent'])\n",
        "    return missing_values\n",
        "\n",
        "missing(df_train)"
      ]
    },
    {
      "cell_type": "code",
      "execution_count": null,
      "metadata": {
        "id": "UwLEyl3asiyo"
      },
      "outputs": [],
      "source": [
        "#function for duplicated value\n",
        "\n",
        "def duplicate(df_train):\n",
        "    dups = df_train.duplicated().sum()\n",
        "    return dups\n",
        "\n",
        "duplicate(df_train)"
      ]
    },
    {
      "cell_type": "code",
      "execution_count": null,
      "metadata": {
        "id": "BTlQcX9wHnt6"
      },
      "outputs": [],
      "source": [
        "#function to change churn value\n",
        "\n",
        "df_train['churn'] = df_train['churn'].map({'yes':1,'no':0})"
      ]
    },
    {
      "cell_type": "markdown",
      "metadata": {
        "id": "OeuB4aX7tJz_"
      },
      "source": [
        "### Descriptive Statistics"
      ]
    },
    {
      "cell_type": "code",
      "execution_count": null,
      "metadata": {
        "id": "NTrysR5Xsiv5"
      },
      "outputs": [],
      "source": [
        "df_train.describe()"
      ]
    },
    {
      "cell_type": "markdown",
      "metadata": {
        "id": "T7CFtVCstgRO"
      },
      "source": [
        "### Target Variable Distribution Test"
      ]
    },
    {
      "cell_type": "code",
      "execution_count": null,
      "metadata": {
        "id": "wB0k4CLyeQM_"
      },
      "outputs": [],
      "source": [
        "target_variable_test = 'id'"
      ]
    },
    {
      "cell_type": "code",
      "execution_count": null,
      "metadata": {
        "id": "VBHpQTm5eVqR"
      },
      "outputs": [],
      "source": [
        "df_test[target_variable_test].value_counts()"
      ]
    },
    {
      "cell_type": "markdown",
      "metadata": {
        "id": "A4HYDimvu9z8"
      },
      "source": [
        "###Target Variable Distribution Train"
      ]
    },
    {
      "cell_type": "code",
      "execution_count": null,
      "metadata": {
        "id": "Zvr6ZvPeJbhT"
      },
      "outputs": [],
      "source": [
        "target_variable = 'churn'"
      ]
    },
    {
      "cell_type": "code",
      "execution_count": null,
      "metadata": {
        "id": "nhX-oRc67fmG"
      },
      "outputs": [],
      "source": [
        "df_train[target_variable].value_counts()"
      ]
    },
    {
      "cell_type": "code",
      "execution_count": null,
      "metadata": {
        "id": "-a5Sn1tO4j0u"
      },
      "outputs": [],
      "source": [
        "df_train[target_variable].value_counts(normalize=True)"
      ]
    },
    {
      "cell_type": "code",
      "execution_count": null,
      "metadata": {
        "id": "pvv7eM70Jhkd"
      },
      "outputs": [],
      "source": [
        "print('No Churn', round(df_train[target_variable].value_counts()[0]/len(df_train) * 100,2), '% of the dataset')\n",
        "print('Churn', round(df_train[target_variable].value_counts()[1]/len(df_train) * 100,2), '% of the dataset')"
      ]
    },
    {
      "cell_type": "code",
      "execution_count": null,
      "metadata": {
        "id": "oMLutH1jPFR1"
      },
      "outputs": [],
      "source": [
        "colors = [\"#0101DF\", \"#DF0101\"]\n",
        "\n",
        "sns.countplot('churn', data=df_train, palette=colors)\n",
        "plt.title('Class Distributions \\n (0: No Churn || 1: Churn)', fontsize=14)"
      ]
    },
    {
      "cell_type": "code",
      "execution_count": null,
      "metadata": {
        "id": "AequomC2CFeH"
      },
      "outputs": [],
      "source": [
        "df_train[target_variable].value_counts().sort_values().plot(kind = 'barh')"
      ]
    },
    {
      "cell_type": "markdown",
      "metadata": {
        "id": "yIwIkHdquEt0"
      },
      "source": [
        "### Numerical Feature Distribution Test"
      ]
    },
    {
      "cell_type": "code",
      "execution_count": null,
      "metadata": {
        "id": "IzUfvIbJfyNs"
      },
      "outputs": [],
      "source": [
        "num_col_test = get_num_cols(df_test.drop(target_variable_test, axis=1))\n",
        "num_col_test"
      ]
    },
    {
      "cell_type": "markdown",
      "metadata": {
        "id": "vNmO5lMa7y--"
      },
      "source": [
        "### Categorical Feature Distribution Test"
      ]
    },
    {
      "cell_type": "code",
      "execution_count": null,
      "metadata": {
        "id": "SGfDQ0Bbf_Qg"
      },
      "outputs": [],
      "source": [
        "cat_col_test = get_cat_cols(df_test)\n",
        "cat_col_test"
      ]
    },
    {
      "cell_type": "markdown",
      "metadata": {
        "id": "HigezR83xZjU"
      },
      "source": [
        "### Numerical Feature Distribution Train"
      ]
    },
    {
      "cell_type": "code",
      "execution_count": null,
      "metadata": {
        "id": "jcwGZr8K2e2p"
      },
      "outputs": [],
      "source": [
        "num_col = get_num_cols(df_train.drop(target_variable, axis=1))\n",
        "num_col"
      ]
    },
    {
      "cell_type": "code",
      "execution_count": null,
      "metadata": {
        "id": "KvRKhDIQ5_Nq"
      },
      "outputs": [],
      "source": [
        "import matplotlib.pyplot as plt\n",
        "import plotly.express as px\n",
        "\n",
        "for col in num_col:\n",
        "  fig = px.histogram(df_train, x=col, marginal='box', width=500, height=400, color=target_variable)\n",
        "  fig.show()"
      ]
    },
    {
      "cell_type": "markdown",
      "metadata": {
        "id": "b5ZlOtLW6JkR"
      },
      "source": [
        "### Categorical Feature Distribution Train"
      ]
    },
    {
      "cell_type": "code",
      "execution_count": null,
      "metadata": {
        "id": "GWOZDkW46Twx"
      },
      "outputs": [],
      "source": [
        "cat_col = get_cat_cols(df_train)\n",
        "cat_col"
      ]
    },
    {
      "cell_type": "code",
      "execution_count": null,
      "metadata": {
        "id": "E_8cC9x66bIA"
      },
      "outputs": [],
      "source": [
        "for i in cat_col:\n",
        "  fig = px.histogram(df_train, x=i, width=500, height=400, color=target_variable, barmode=\"group\")\n",
        "  fig.show()"
      ]
    },
    {
      "cell_type": "markdown",
      "metadata": {
        "id": "Z6tKHIvf3PX3"
      },
      "source": [
        "# Manual Process"
      ]
    },
    {
      "cell_type": "markdown",
      "metadata": {
        "id": "bvb_XEpD3UA-"
      },
      "source": [
        "## Data Prepocessing"
      ]
    },
    {
      "cell_type": "markdown",
      "metadata": {
        "id": "HX4H2QtbgMPE"
      },
      "source": [
        "###Normalization Numerical Feature Test.csv"
      ]
    },
    {
      "cell_type": "code",
      "execution_count": null,
      "metadata": {
        "id": "fL5RX8EjgZQO"
      },
      "outputs": [],
      "source": [
        "scaler_test = MinMaxScaler()\n",
        "X_transform_test = scaler_test.fit_transform(df_test[num_col_test])"
      ]
    },
    {
      "cell_type": "code",
      "execution_count": null,
      "metadata": {
        "colab": {
          "base_uri": "https://localhost:8080/"
        },
        "id": "efrzkpqDglV8",
        "outputId": "5511694d-d47a-405f-f2dc-bbdd28a3771b"
      },
      "outputs": [
        {
          "data": {
            "text/html": [
              "\n",
              "  <div id=\"df-707980c3-c4a9-4805-8b10-b255413b83de\">\n",
              "    <div class=\"colab-df-container\">\n",
              "      <div>\n",
              "<style scoped>\n",
              "    .dataframe tbody tr th:only-of-type {\n",
              "        vertical-align: middle;\n",
              "    }\n",
              "\n",
              "    .dataframe tbody tr th {\n",
              "        vertical-align: top;\n",
              "    }\n",
              "\n",
              "    .dataframe thead th {\n",
              "        text-align: right;\n",
              "    }\n",
              "</style>\n",
              "<table border=\"1\" class=\"dataframe\">\n",
              "  <thead>\n",
              "    <tr style=\"text-align: right;\">\n",
              "      <th></th>\n",
              "      <th>account_length</th>\n",
              "      <th>number_vmail_messages</th>\n",
              "      <th>total_day_calls</th>\n",
              "      <th>total_eve_calls</th>\n",
              "      <th>total_night_calls</th>\n",
              "      <th>total_intl_calls</th>\n",
              "      <th>number_customer_service_calls</th>\n",
              "      <th>total_day_minutes</th>\n",
              "      <th>total_day_charge</th>\n",
              "      <th>total_eve_minutes</th>\n",
              "      <th>total_eve_charge</th>\n",
              "      <th>total_night_minutes</th>\n",
              "      <th>total_night_charge</th>\n",
              "      <th>total_intl_minutes</th>\n",
              "      <th>total_intl_charge</th>\n",
              "    </tr>\n",
              "  </thead>\n",
              "  <tbody>\n",
              "    <tr>\n",
              "      <th>0</th>\n",
              "      <td>0.535865</td>\n",
              "      <td>0.490196</td>\n",
              "      <td>0.572581</td>\n",
              "      <td>0.488189</td>\n",
              "      <td>0.506410</td>\n",
              "      <td>0.157895</td>\n",
              "      <td>0.166667</td>\n",
              "      <td>0.746675</td>\n",
              "      <td>0.746653</td>\n",
              "      <td>0.499850</td>\n",
              "      <td>0.500000</td>\n",
              "      <td>0.618379</td>\n",
              "      <td>0.618440</td>\n",
              "      <td>0.529101</td>\n",
              "      <td>0.529412</td>\n",
              "    </tr>\n",
              "    <tr>\n",
              "      <th>1</th>\n",
              "      <td>0.493671</td>\n",
              "      <td>0.000000</td>\n",
              "      <td>0.475806</td>\n",
              "      <td>0.503937</td>\n",
              "      <td>0.679487</td>\n",
              "      <td>0.315789</td>\n",
              "      <td>0.000000</td>\n",
              "      <td>0.623411</td>\n",
              "      <td>0.623370</td>\n",
              "      <td>0.569624</td>\n",
              "      <td>0.569710</td>\n",
              "      <td>0.488194</td>\n",
              "      <td>0.488652</td>\n",
              "      <td>0.333333</td>\n",
              "      <td>0.333333</td>\n",
              "    </tr>\n",
              "    <tr>\n",
              "      <th>2</th>\n",
              "      <td>0.257384</td>\n",
              "      <td>0.000000</td>\n",
              "      <td>0.250000</td>\n",
              "      <td>0.307087</td>\n",
              "      <td>0.557692</td>\n",
              "      <td>0.315789</td>\n",
              "      <td>0.666667</td>\n",
              "      <td>0.319834</td>\n",
              "      <td>0.319770</td>\n",
              "      <td>0.830075</td>\n",
              "      <td>0.830149</td>\n",
              "      <td>0.485322</td>\n",
              "      <td>0.485816</td>\n",
              "      <td>0.693122</td>\n",
              "      <td>0.694118</td>\n",
              "    </tr>\n",
              "    <tr>\n",
              "      <th>3</th>\n",
              "      <td>0.388186</td>\n",
              "      <td>0.000000</td>\n",
              "      <td>0.604839</td>\n",
              "      <td>0.582677</td>\n",
              "      <td>0.698718</td>\n",
              "      <td>0.157895</td>\n",
              "      <td>0.500000</td>\n",
              "      <td>0.526751</td>\n",
              "      <td>0.526691</td>\n",
              "      <td>0.562406</td>\n",
              "      <td>0.562633</td>\n",
              "      <td>0.251117</td>\n",
              "      <td>0.251064</td>\n",
              "      <td>0.428571</td>\n",
              "      <td>0.429412</td>\n",
              "    </tr>\n",
              "    <tr>\n",
              "      <th>4</th>\n",
              "      <td>0.729958</td>\n",
              "      <td>0.000000</td>\n",
              "      <td>0.298387</td>\n",
              "      <td>0.590551</td>\n",
              "      <td>0.660256</td>\n",
              "      <td>0.263158</td>\n",
              "      <td>0.500000</td>\n",
              "      <td>0.330476</td>\n",
              "      <td>0.330377</td>\n",
              "      <td>0.739549</td>\n",
              "      <td>0.739561</td>\n",
              "      <td>0.637524</td>\n",
              "      <td>0.637589</td>\n",
              "      <td>0.820106</td>\n",
              "      <td>0.821569</td>\n",
              "    </tr>\n",
              "  </tbody>\n",
              "</table>\n",
              "</div>\n",
              "      <button class=\"colab-df-convert\" onclick=\"convertToInteractive('df-707980c3-c4a9-4805-8b10-b255413b83de')\"\n",
              "              title=\"Convert this dataframe to an interactive table.\"\n",
              "              style=\"display:none;\">\n",
              "        \n",
              "  <svg xmlns=\"http://www.w3.org/2000/svg\" height=\"24px\"viewBox=\"0 0 24 24\"\n",
              "       width=\"24px\">\n",
              "    <path d=\"M0 0h24v24H0V0z\" fill=\"none\"/>\n",
              "    <path d=\"M18.56 5.44l.94 2.06.94-2.06 2.06-.94-2.06-.94-.94-2.06-.94 2.06-2.06.94zm-11 1L8.5 8.5l.94-2.06 2.06-.94-2.06-.94L8.5 2.5l-.94 2.06-2.06.94zm10 10l.94 2.06.94-2.06 2.06-.94-2.06-.94-.94-2.06-.94 2.06-2.06.94z\"/><path d=\"M17.41 7.96l-1.37-1.37c-.4-.4-.92-.59-1.43-.59-.52 0-1.04.2-1.43.59L10.3 9.45l-7.72 7.72c-.78.78-.78 2.05 0 2.83L4 21.41c.39.39.9.59 1.41.59.51 0 1.02-.2 1.41-.59l7.78-7.78 2.81-2.81c.8-.78.8-2.07 0-2.86zM5.41 20L4 18.59l7.72-7.72 1.47 1.35L5.41 20z\"/>\n",
              "  </svg>\n",
              "      </button>\n",
              "      \n",
              "  <style>\n",
              "    .colab-df-container {\n",
              "      display:flex;\n",
              "      flex-wrap:wrap;\n",
              "      gap: 12px;\n",
              "    }\n",
              "\n",
              "    .colab-df-convert {\n",
              "      background-color: #E8F0FE;\n",
              "      border: none;\n",
              "      border-radius: 50%;\n",
              "      cursor: pointer;\n",
              "      display: none;\n",
              "      fill: #1967D2;\n",
              "      height: 32px;\n",
              "      padding: 0 0 0 0;\n",
              "      width: 32px;\n",
              "    }\n",
              "\n",
              "    .colab-df-convert:hover {\n",
              "      background-color: #E2EBFA;\n",
              "      box-shadow: 0px 1px 2px rgba(60, 64, 67, 0.3), 0px 1px 3px 1px rgba(60, 64, 67, 0.15);\n",
              "      fill: #174EA6;\n",
              "    }\n",
              "\n",
              "    [theme=dark] .colab-df-convert {\n",
              "      background-color: #3B4455;\n",
              "      fill: #D2E3FC;\n",
              "    }\n",
              "\n",
              "    [theme=dark] .colab-df-convert:hover {\n",
              "      background-color: #434B5C;\n",
              "      box-shadow: 0px 1px 3px 1px rgba(0, 0, 0, 0.15);\n",
              "      filter: drop-shadow(0px 1px 2px rgba(0, 0, 0, 0.3));\n",
              "      fill: #FFFFFF;\n",
              "    }\n",
              "  </style>\n",
              "\n",
              "      <script>\n",
              "        const buttonEl =\n",
              "          document.querySelector('#df-707980c3-c4a9-4805-8b10-b255413b83de button.colab-df-convert');\n",
              "        buttonEl.style.display =\n",
              "          google.colab.kernel.accessAllowed ? 'block' : 'none';\n",
              "\n",
              "        async function convertToInteractive(key) {\n",
              "          const element = document.querySelector('#df-707980c3-c4a9-4805-8b10-b255413b83de');\n",
              "          const dataTable =\n",
              "            await google.colab.kernel.invokeFunction('convertToInteractive',\n",
              "                                                     [key], {});\n",
              "          if (!dataTable) return;\n",
              "\n",
              "          const docLinkHtml = 'Like what you see? Visit the ' +\n",
              "            '<a target=\"_blank\" href=https://colab.research.google.com/notebooks/data_table.ipynb>data table notebook</a>'\n",
              "            + ' to learn more about interactive tables.';\n",
              "          element.innerHTML = '';\n",
              "          dataTable['output_type'] = 'display_data';\n",
              "          await google.colab.output.renderOutput(dataTable, element);\n",
              "          const docLink = document.createElement('div');\n",
              "          docLink.innerHTML = docLinkHtml;\n",
              "          element.appendChild(docLink);\n",
              "        }\n",
              "      </script>\n",
              "    </div>\n",
              "  </div>\n",
              "  "
            ],
            "text/plain": [
              "   account_length  number_vmail_messages  total_day_calls  total_eve_calls  \\\n",
              "0        0.535865               0.490196         0.572581         0.488189   \n",
              "1        0.493671               0.000000         0.475806         0.503937   \n",
              "2        0.257384               0.000000         0.250000         0.307087   \n",
              "3        0.388186               0.000000         0.604839         0.582677   \n",
              "4        0.729958               0.000000         0.298387         0.590551   \n",
              "\n",
              "   total_night_calls  total_intl_calls  number_customer_service_calls  \\\n",
              "0           0.506410          0.157895                       0.166667   \n",
              "1           0.679487          0.315789                       0.000000   \n",
              "2           0.557692          0.315789                       0.666667   \n",
              "3           0.698718          0.157895                       0.500000   \n",
              "4           0.660256          0.263158                       0.500000   \n",
              "\n",
              "   total_day_minutes  total_day_charge  total_eve_minutes  total_eve_charge  \\\n",
              "0           0.746675          0.746653           0.499850          0.500000   \n",
              "1           0.623411          0.623370           0.569624          0.569710   \n",
              "2           0.319834          0.319770           0.830075          0.830149   \n",
              "3           0.526751          0.526691           0.562406          0.562633   \n",
              "4           0.330476          0.330377           0.739549          0.739561   \n",
              "\n",
              "   total_night_minutes  total_night_charge  total_intl_minutes  \\\n",
              "0             0.618379            0.618440            0.529101   \n",
              "1             0.488194            0.488652            0.333333   \n",
              "2             0.485322            0.485816            0.693122   \n",
              "3             0.251117            0.251064            0.428571   \n",
              "4             0.637524            0.637589            0.820106   \n",
              "\n",
              "   total_intl_charge  \n",
              "0           0.529412  \n",
              "1           0.333333  \n",
              "2           0.694118  \n",
              "3           0.429412  \n",
              "4           0.821569  "
            ]
          },
          "execution_count": 590,
          "metadata": {},
          "output_type": "execute_result"
        }
      ],
      "source": [
        "X_transform_test = pd.DataFrame(X_transform_test,columns = num_col_test)\n",
        "X_transform_test.head()"
      ]
    },
    {
      "cell_type": "code",
      "execution_count": null,
      "metadata": {
        "colab": {
          "base_uri": "https://localhost:8080/"
        },
        "id": "0ec73rfxgv8w",
        "outputId": "01ced142-5502-4c2b-8775-415e3a059877"
      },
      "outputs": [
        {
          "data": {
            "text/plain": [
              "(750, 20)"
            ]
          },
          "execution_count": 591,
          "metadata": {},
          "output_type": "execute_result"
        }
      ],
      "source": [
        "df_test.shape"
      ]
    },
    {
      "cell_type": "markdown",
      "metadata": {
        "id": "VAKqncvMPrgc"
      },
      "source": [
        "###Normalization Numerical Feature Train.csv"
      ]
    },
    {
      "cell_type": "code",
      "execution_count": null,
      "metadata": {
        "id": "XPtIFvdoLI-p"
      },
      "outputs": [],
      "source": [
        "scaler = MinMaxScaler()\n",
        "X_transform = scaler.fit_transform(df_train[num_col])"
      ]
    },
    {
      "cell_type": "code",
      "execution_count": null,
      "metadata": {
        "colab": {
          "base_uri": "https://localhost:8080/"
        },
        "id": "tes_5LyPLOfc",
        "outputId": "a15c9f45-9eef-4192-8734-021a00260bcf"
      },
      "outputs": [
        {
          "data": {
            "text/html": [
              "\n",
              "  <div id=\"df-12bea05d-93b3-422c-a334-63cabebc6765\">\n",
              "    <div class=\"colab-df-container\">\n",
              "      <div>\n",
              "<style scoped>\n",
              "    .dataframe tbody tr th:only-of-type {\n",
              "        vertical-align: middle;\n",
              "    }\n",
              "\n",
              "    .dataframe tbody tr th {\n",
              "        vertical-align: top;\n",
              "    }\n",
              "\n",
              "    .dataframe thead th {\n",
              "        text-align: right;\n",
              "    }\n",
              "</style>\n",
              "<table border=\"1\" class=\"dataframe\">\n",
              "  <thead>\n",
              "    <tr style=\"text-align: right;\">\n",
              "      <th></th>\n",
              "      <th>account_length</th>\n",
              "      <th>number_vmail_messages</th>\n",
              "      <th>total_day_calls</th>\n",
              "      <th>total_eve_calls</th>\n",
              "      <th>total_night_calls</th>\n",
              "      <th>total_intl_calls</th>\n",
              "      <th>number_customer_service_calls</th>\n",
              "      <th>total_day_minutes</th>\n",
              "      <th>total_day_charge</th>\n",
              "      <th>total_eve_minutes</th>\n",
              "      <th>total_eve_charge</th>\n",
              "      <th>total_night_minutes</th>\n",
              "      <th>total_night_charge</th>\n",
              "      <th>total_intl_minutes</th>\n",
              "      <th>total_intl_charge</th>\n",
              "    </tr>\n",
              "  </thead>\n",
              "  <tbody>\n",
              "    <tr>\n",
              "      <th>0</th>\n",
              "      <td>0.438017</td>\n",
              "      <td>0.500000</td>\n",
              "      <td>0.745455</td>\n",
              "      <td>0.605882</td>\n",
              "      <td>0.588571</td>\n",
              "      <td>0.15</td>\n",
              "      <td>0.111111</td>\n",
              "      <td>0.459744</td>\n",
              "      <td>0.459672</td>\n",
              "      <td>0.544114</td>\n",
              "      <td>0.544204</td>\n",
              "      <td>0.644051</td>\n",
              "      <td>0.644344</td>\n",
              "      <td>0.685</td>\n",
              "      <td>0.685185</td>\n",
              "    </tr>\n",
              "    <tr>\n",
              "      <th>1</th>\n",
              "      <td>0.561983</td>\n",
              "      <td>0.000000</td>\n",
              "      <td>0.690909</td>\n",
              "      <td>0.647059</td>\n",
              "      <td>0.594286</td>\n",
              "      <td>0.25</td>\n",
              "      <td>0.000000</td>\n",
              "      <td>0.692461</td>\n",
              "      <td>0.692436</td>\n",
              "      <td>0.337323</td>\n",
              "      <td>0.337263</td>\n",
              "      <td>0.411646</td>\n",
              "      <td>0.411930</td>\n",
              "      <td>0.610</td>\n",
              "      <td>0.609259</td>\n",
              "    </tr>\n",
              "    <tr>\n",
              "      <th>2</th>\n",
              "      <td>0.342975</td>\n",
              "      <td>0.000000</td>\n",
              "      <td>0.430303</td>\n",
              "      <td>0.517647</td>\n",
              "      <td>0.508571</td>\n",
              "      <td>0.35</td>\n",
              "      <td>0.222222</td>\n",
              "      <td>0.851778</td>\n",
              "      <td>0.851740</td>\n",
              "      <td>0.172279</td>\n",
              "      <td>0.172233</td>\n",
              "      <td>0.498481</td>\n",
              "      <td>0.498593</td>\n",
              "      <td>0.330</td>\n",
              "      <td>0.329630</td>\n",
              "    </tr>\n",
              "    <tr>\n",
              "      <th>3</th>\n",
              "      <td>0.305785</td>\n",
              "      <td>0.000000</td>\n",
              "      <td>0.684848</td>\n",
              "      <td>0.717647</td>\n",
              "      <td>0.691429</td>\n",
              "      <td>0.15</td>\n",
              "      <td>0.333333</td>\n",
              "      <td>0.474253</td>\n",
              "      <td>0.474230</td>\n",
              "      <td>0.412747</td>\n",
              "      <td>0.412901</td>\n",
              "      <td>0.473165</td>\n",
              "      <td>0.473270</td>\n",
              "      <td>0.505</td>\n",
              "      <td>0.505556</td>\n",
              "    </tr>\n",
              "    <tr>\n",
              "      <th>4</th>\n",
              "      <td>0.495868</td>\n",
              "      <td>0.461538</td>\n",
              "      <td>0.533333</td>\n",
              "      <td>0.635294</td>\n",
              "      <td>0.674286</td>\n",
              "      <td>0.35</td>\n",
              "      <td>0.333333</td>\n",
              "      <td>0.620768</td>\n",
              "      <td>0.620649</td>\n",
              "      <td>0.969942</td>\n",
              "      <td>0.969876</td>\n",
              "      <td>0.538228</td>\n",
              "      <td>0.538548</td>\n",
              "      <td>0.375</td>\n",
              "      <td>0.375926</td>\n",
              "    </tr>\n",
              "  </tbody>\n",
              "</table>\n",
              "</div>\n",
              "      <button class=\"colab-df-convert\" onclick=\"convertToInteractive('df-12bea05d-93b3-422c-a334-63cabebc6765')\"\n",
              "              title=\"Convert this dataframe to an interactive table.\"\n",
              "              style=\"display:none;\">\n",
              "        \n",
              "  <svg xmlns=\"http://www.w3.org/2000/svg\" height=\"24px\"viewBox=\"0 0 24 24\"\n",
              "       width=\"24px\">\n",
              "    <path d=\"M0 0h24v24H0V0z\" fill=\"none\"/>\n",
              "    <path d=\"M18.56 5.44l.94 2.06.94-2.06 2.06-.94-2.06-.94-.94-2.06-.94 2.06-2.06.94zm-11 1L8.5 8.5l.94-2.06 2.06-.94-2.06-.94L8.5 2.5l-.94 2.06-2.06.94zm10 10l.94 2.06.94-2.06 2.06-.94-2.06-.94-.94-2.06-.94 2.06-2.06.94z\"/><path d=\"M17.41 7.96l-1.37-1.37c-.4-.4-.92-.59-1.43-.59-.52 0-1.04.2-1.43.59L10.3 9.45l-7.72 7.72c-.78.78-.78 2.05 0 2.83L4 21.41c.39.39.9.59 1.41.59.51 0 1.02-.2 1.41-.59l7.78-7.78 2.81-2.81c.8-.78.8-2.07 0-2.86zM5.41 20L4 18.59l7.72-7.72 1.47 1.35L5.41 20z\"/>\n",
              "  </svg>\n",
              "      </button>\n",
              "      \n",
              "  <style>\n",
              "    .colab-df-container {\n",
              "      display:flex;\n",
              "      flex-wrap:wrap;\n",
              "      gap: 12px;\n",
              "    }\n",
              "\n",
              "    .colab-df-convert {\n",
              "      background-color: #E8F0FE;\n",
              "      border: none;\n",
              "      border-radius: 50%;\n",
              "      cursor: pointer;\n",
              "      display: none;\n",
              "      fill: #1967D2;\n",
              "      height: 32px;\n",
              "      padding: 0 0 0 0;\n",
              "      width: 32px;\n",
              "    }\n",
              "\n",
              "    .colab-df-convert:hover {\n",
              "      background-color: #E2EBFA;\n",
              "      box-shadow: 0px 1px 2px rgba(60, 64, 67, 0.3), 0px 1px 3px 1px rgba(60, 64, 67, 0.15);\n",
              "      fill: #174EA6;\n",
              "    }\n",
              "\n",
              "    [theme=dark] .colab-df-convert {\n",
              "      background-color: #3B4455;\n",
              "      fill: #D2E3FC;\n",
              "    }\n",
              "\n",
              "    [theme=dark] .colab-df-convert:hover {\n",
              "      background-color: #434B5C;\n",
              "      box-shadow: 0px 1px 3px 1px rgba(0, 0, 0, 0.15);\n",
              "      filter: drop-shadow(0px 1px 2px rgba(0, 0, 0, 0.3));\n",
              "      fill: #FFFFFF;\n",
              "    }\n",
              "  </style>\n",
              "\n",
              "      <script>\n",
              "        const buttonEl =\n",
              "          document.querySelector('#df-12bea05d-93b3-422c-a334-63cabebc6765 button.colab-df-convert');\n",
              "        buttonEl.style.display =\n",
              "          google.colab.kernel.accessAllowed ? 'block' : 'none';\n",
              "\n",
              "        async function convertToInteractive(key) {\n",
              "          const element = document.querySelector('#df-12bea05d-93b3-422c-a334-63cabebc6765');\n",
              "          const dataTable =\n",
              "            await google.colab.kernel.invokeFunction('convertToInteractive',\n",
              "                                                     [key], {});\n",
              "          if (!dataTable) return;\n",
              "\n",
              "          const docLinkHtml = 'Like what you see? Visit the ' +\n",
              "            '<a target=\"_blank\" href=https://colab.research.google.com/notebooks/data_table.ipynb>data table notebook</a>'\n",
              "            + ' to learn more about interactive tables.';\n",
              "          element.innerHTML = '';\n",
              "          dataTable['output_type'] = 'display_data';\n",
              "          await google.colab.output.renderOutput(dataTable, element);\n",
              "          const docLink = document.createElement('div');\n",
              "          docLink.innerHTML = docLinkHtml;\n",
              "          element.appendChild(docLink);\n",
              "        }\n",
              "      </script>\n",
              "    </div>\n",
              "  </div>\n",
              "  "
            ],
            "text/plain": [
              "   account_length  number_vmail_messages  total_day_calls  total_eve_calls  \\\n",
              "0        0.438017               0.500000         0.745455         0.605882   \n",
              "1        0.561983               0.000000         0.690909         0.647059   \n",
              "2        0.342975               0.000000         0.430303         0.517647   \n",
              "3        0.305785               0.000000         0.684848         0.717647   \n",
              "4        0.495868               0.461538         0.533333         0.635294   \n",
              "\n",
              "   total_night_calls  total_intl_calls  number_customer_service_calls  \\\n",
              "0           0.588571              0.15                       0.111111   \n",
              "1           0.594286              0.25                       0.000000   \n",
              "2           0.508571              0.35                       0.222222   \n",
              "3           0.691429              0.15                       0.333333   \n",
              "4           0.674286              0.35                       0.333333   \n",
              "\n",
              "   total_day_minutes  total_day_charge  total_eve_minutes  total_eve_charge  \\\n",
              "0           0.459744          0.459672           0.544114          0.544204   \n",
              "1           0.692461          0.692436           0.337323          0.337263   \n",
              "2           0.851778          0.851740           0.172279          0.172233   \n",
              "3           0.474253          0.474230           0.412747          0.412901   \n",
              "4           0.620768          0.620649           0.969942          0.969876   \n",
              "\n",
              "   total_night_minutes  total_night_charge  total_intl_minutes  \\\n",
              "0             0.644051            0.644344               0.685   \n",
              "1             0.411646            0.411930               0.610   \n",
              "2             0.498481            0.498593               0.330   \n",
              "3             0.473165            0.473270               0.505   \n",
              "4             0.538228            0.538548               0.375   \n",
              "\n",
              "   total_intl_charge  \n",
              "0           0.685185  \n",
              "1           0.609259  \n",
              "2           0.329630  \n",
              "3           0.505556  \n",
              "4           0.375926  "
            ]
          },
          "execution_count": 593,
          "metadata": {},
          "output_type": "execute_result"
        }
      ],
      "source": [
        "X_transform = pd.DataFrame(X_transform,columns = num_col)\n",
        "X_transform.head()"
      ]
    },
    {
      "cell_type": "code",
      "execution_count": null,
      "metadata": {
        "colab": {
          "base_uri": "https://localhost:8080/"
        },
        "id": "hOkoICMIPx43",
        "outputId": "23f46696-9ac3-4c4f-d667-3d4f2452a74e"
      },
      "outputs": [
        {
          "data": {
            "text/plain": [
              "(4250, 20)"
            ]
          },
          "execution_count": 594,
          "metadata": {},
          "output_type": "execute_result"
        }
      ],
      "source": [
        "df_train.shape"
      ]
    },
    {
      "cell_type": "markdown",
      "metadata": {
        "id": "jhPn4eGKheLo"
      },
      "source": [
        "###One Hot Encoder - Categorical Feature Test.csv"
      ]
    },
    {
      "cell_type": "code",
      "execution_count": null,
      "metadata": {
        "colab": {
          "base_uri": "https://localhost:8080/"
        },
        "id": "0g4kg3TYhz2L",
        "outputId": "8ad01fc5-9a79-483c-a109-524e737c4a3f"
      },
      "outputs": [
        {
          "data": {
            "text/plain": [
              "['state', 'area_code', 'international_plan', 'voice_mail_plan']"
            ]
          },
          "execution_count": 595,
          "metadata": {},
          "output_type": "execute_result"
        }
      ],
      "source": [
        "cat_col_test"
      ]
    },
    {
      "cell_type": "code",
      "execution_count": null,
      "metadata": {
        "colab": {
          "base_uri": "https://localhost:8080/"
        },
        "id": "J4UhybvBh2QJ",
        "outputId": "d7b179a4-4bdc-4ae4-c228-2841630def3a"
      },
      "outputs": [
        {
          "data": {
            "text/plain": [
              "(750, 20)"
            ]
          },
          "execution_count": 596,
          "metadata": {},
          "output_type": "execute_result"
        }
      ],
      "source": [
        "new_df_test = pd.concat([X_transform_test, df_test[cat_col_test], df_test[target_variable_test]], axis=1)\n",
        "new_df_test.shape"
      ]
    },
    {
      "cell_type": "code",
      "execution_count": null,
      "metadata": {
        "colab": {
          "base_uri": "https://localhost:8080/"
        },
        "id": "Moy2wkKb_qgM",
        "outputId": "ee4dc34e-da1f-49f0-ffdf-dfc09ecc5159"
      },
      "outputs": [
        {
          "data": {
            "text/html": [
              "\n",
              "  <div id=\"df-872ca018-da91-4b45-a671-4ff8643dfdee\">\n",
              "    <div class=\"colab-df-container\">\n",
              "      <div>\n",
              "<style scoped>\n",
              "    .dataframe tbody tr th:only-of-type {\n",
              "        vertical-align: middle;\n",
              "    }\n",
              "\n",
              "    .dataframe tbody tr th {\n",
              "        vertical-align: top;\n",
              "    }\n",
              "\n",
              "    .dataframe thead th {\n",
              "        text-align: right;\n",
              "    }\n",
              "</style>\n",
              "<table border=\"1\" class=\"dataframe\">\n",
              "  <thead>\n",
              "    <tr style=\"text-align: right;\">\n",
              "      <th></th>\n",
              "      <th>account_length</th>\n",
              "      <th>number_vmail_messages</th>\n",
              "      <th>total_day_calls</th>\n",
              "      <th>total_eve_calls</th>\n",
              "      <th>total_night_calls</th>\n",
              "      <th>total_intl_calls</th>\n",
              "      <th>number_customer_service_calls</th>\n",
              "      <th>total_day_minutes</th>\n",
              "      <th>total_day_charge</th>\n",
              "      <th>total_eve_minutes</th>\n",
              "      <th>total_eve_charge</th>\n",
              "      <th>total_night_minutes</th>\n",
              "      <th>total_night_charge</th>\n",
              "      <th>total_intl_minutes</th>\n",
              "      <th>total_intl_charge</th>\n",
              "      <th>state</th>\n",
              "      <th>area_code</th>\n",
              "      <th>international_plan</th>\n",
              "      <th>voice_mail_plan</th>\n",
              "      <th>id</th>\n",
              "    </tr>\n",
              "  </thead>\n",
              "  <tbody>\n",
              "    <tr>\n",
              "      <th>0</th>\n",
              "      <td>0.535865</td>\n",
              "      <td>0.490196</td>\n",
              "      <td>0.572581</td>\n",
              "      <td>0.488189</td>\n",
              "      <td>0.506410</td>\n",
              "      <td>0.157895</td>\n",
              "      <td>0.166667</td>\n",
              "      <td>0.746675</td>\n",
              "      <td>0.746653</td>\n",
              "      <td>0.499850</td>\n",
              "      <td>0.500000</td>\n",
              "      <td>0.618379</td>\n",
              "      <td>0.618440</td>\n",
              "      <td>0.529101</td>\n",
              "      <td>0.529412</td>\n",
              "      <td>KS</td>\n",
              "      <td>area_code_415</td>\n",
              "      <td>no</td>\n",
              "      <td>yes</td>\n",
              "      <td>1</td>\n",
              "    </tr>\n",
              "    <tr>\n",
              "      <th>1</th>\n",
              "      <td>0.493671</td>\n",
              "      <td>0.000000</td>\n",
              "      <td>0.475806</td>\n",
              "      <td>0.503937</td>\n",
              "      <td>0.679487</td>\n",
              "      <td>0.315789</td>\n",
              "      <td>0.000000</td>\n",
              "      <td>0.623411</td>\n",
              "      <td>0.623370</td>\n",
              "      <td>0.569624</td>\n",
              "      <td>0.569710</td>\n",
              "      <td>0.488194</td>\n",
              "      <td>0.488652</td>\n",
              "      <td>0.333333</td>\n",
              "      <td>0.333333</td>\n",
              "      <td>AL</td>\n",
              "      <td>area_code_510</td>\n",
              "      <td>yes</td>\n",
              "      <td>no</td>\n",
              "      <td>2</td>\n",
              "    </tr>\n",
              "    <tr>\n",
              "      <th>2</th>\n",
              "      <td>0.257384</td>\n",
              "      <td>0.000000</td>\n",
              "      <td>0.250000</td>\n",
              "      <td>0.307087</td>\n",
              "      <td>0.557692</td>\n",
              "      <td>0.315789</td>\n",
              "      <td>0.666667</td>\n",
              "      <td>0.319834</td>\n",
              "      <td>0.319770</td>\n",
              "      <td>0.830075</td>\n",
              "      <td>0.830149</td>\n",
              "      <td>0.485322</td>\n",
              "      <td>0.485816</td>\n",
              "      <td>0.693122</td>\n",
              "      <td>0.694118</td>\n",
              "      <td>IA</td>\n",
              "      <td>area_code_415</td>\n",
              "      <td>no</td>\n",
              "      <td>no</td>\n",
              "      <td>3</td>\n",
              "    </tr>\n",
              "    <tr>\n",
              "      <th>3</th>\n",
              "      <td>0.388186</td>\n",
              "      <td>0.000000</td>\n",
              "      <td>0.604839</td>\n",
              "      <td>0.582677</td>\n",
              "      <td>0.698718</td>\n",
              "      <td>0.157895</td>\n",
              "      <td>0.500000</td>\n",
              "      <td>0.526751</td>\n",
              "      <td>0.526691</td>\n",
              "      <td>0.562406</td>\n",
              "      <td>0.562633</td>\n",
              "      <td>0.251117</td>\n",
              "      <td>0.251064</td>\n",
              "      <td>0.428571</td>\n",
              "      <td>0.429412</td>\n",
              "      <td>VT</td>\n",
              "      <td>area_code_510</td>\n",
              "      <td>no</td>\n",
              "      <td>no</td>\n",
              "      <td>4</td>\n",
              "    </tr>\n",
              "    <tr>\n",
              "      <th>4</th>\n",
              "      <td>0.729958</td>\n",
              "      <td>0.000000</td>\n",
              "      <td>0.298387</td>\n",
              "      <td>0.590551</td>\n",
              "      <td>0.660256</td>\n",
              "      <td>0.263158</td>\n",
              "      <td>0.500000</td>\n",
              "      <td>0.330476</td>\n",
              "      <td>0.330377</td>\n",
              "      <td>0.739549</td>\n",
              "      <td>0.739561</td>\n",
              "      <td>0.637524</td>\n",
              "      <td>0.637589</td>\n",
              "      <td>0.820106</td>\n",
              "      <td>0.821569</td>\n",
              "      <td>NE</td>\n",
              "      <td>area_code_415</td>\n",
              "      <td>no</td>\n",
              "      <td>no</td>\n",
              "      <td>5</td>\n",
              "    </tr>\n",
              "  </tbody>\n",
              "</table>\n",
              "</div>\n",
              "      <button class=\"colab-df-convert\" onclick=\"convertToInteractive('df-872ca018-da91-4b45-a671-4ff8643dfdee')\"\n",
              "              title=\"Convert this dataframe to an interactive table.\"\n",
              "              style=\"display:none;\">\n",
              "        \n",
              "  <svg xmlns=\"http://www.w3.org/2000/svg\" height=\"24px\"viewBox=\"0 0 24 24\"\n",
              "       width=\"24px\">\n",
              "    <path d=\"M0 0h24v24H0V0z\" fill=\"none\"/>\n",
              "    <path d=\"M18.56 5.44l.94 2.06.94-2.06 2.06-.94-2.06-.94-.94-2.06-.94 2.06-2.06.94zm-11 1L8.5 8.5l.94-2.06 2.06-.94-2.06-.94L8.5 2.5l-.94 2.06-2.06.94zm10 10l.94 2.06.94-2.06 2.06-.94-2.06-.94-.94-2.06-.94 2.06-2.06.94z\"/><path d=\"M17.41 7.96l-1.37-1.37c-.4-.4-.92-.59-1.43-.59-.52 0-1.04.2-1.43.59L10.3 9.45l-7.72 7.72c-.78.78-.78 2.05 0 2.83L4 21.41c.39.39.9.59 1.41.59.51 0 1.02-.2 1.41-.59l7.78-7.78 2.81-2.81c.8-.78.8-2.07 0-2.86zM5.41 20L4 18.59l7.72-7.72 1.47 1.35L5.41 20z\"/>\n",
              "  </svg>\n",
              "      </button>\n",
              "      \n",
              "  <style>\n",
              "    .colab-df-container {\n",
              "      display:flex;\n",
              "      flex-wrap:wrap;\n",
              "      gap: 12px;\n",
              "    }\n",
              "\n",
              "    .colab-df-convert {\n",
              "      background-color: #E8F0FE;\n",
              "      border: none;\n",
              "      border-radius: 50%;\n",
              "      cursor: pointer;\n",
              "      display: none;\n",
              "      fill: #1967D2;\n",
              "      height: 32px;\n",
              "      padding: 0 0 0 0;\n",
              "      width: 32px;\n",
              "    }\n",
              "\n",
              "    .colab-df-convert:hover {\n",
              "      background-color: #E2EBFA;\n",
              "      box-shadow: 0px 1px 2px rgba(60, 64, 67, 0.3), 0px 1px 3px 1px rgba(60, 64, 67, 0.15);\n",
              "      fill: #174EA6;\n",
              "    }\n",
              "\n",
              "    [theme=dark] .colab-df-convert {\n",
              "      background-color: #3B4455;\n",
              "      fill: #D2E3FC;\n",
              "    }\n",
              "\n",
              "    [theme=dark] .colab-df-convert:hover {\n",
              "      background-color: #434B5C;\n",
              "      box-shadow: 0px 1px 3px 1px rgba(0, 0, 0, 0.15);\n",
              "      filter: drop-shadow(0px 1px 2px rgba(0, 0, 0, 0.3));\n",
              "      fill: #FFFFFF;\n",
              "    }\n",
              "  </style>\n",
              "\n",
              "      <script>\n",
              "        const buttonEl =\n",
              "          document.querySelector('#df-872ca018-da91-4b45-a671-4ff8643dfdee button.colab-df-convert');\n",
              "        buttonEl.style.display =\n",
              "          google.colab.kernel.accessAllowed ? 'block' : 'none';\n",
              "\n",
              "        async function convertToInteractive(key) {\n",
              "          const element = document.querySelector('#df-872ca018-da91-4b45-a671-4ff8643dfdee');\n",
              "          const dataTable =\n",
              "            await google.colab.kernel.invokeFunction('convertToInteractive',\n",
              "                                                     [key], {});\n",
              "          if (!dataTable) return;\n",
              "\n",
              "          const docLinkHtml = 'Like what you see? Visit the ' +\n",
              "            '<a target=\"_blank\" href=https://colab.research.google.com/notebooks/data_table.ipynb>data table notebook</a>'\n",
              "            + ' to learn more about interactive tables.';\n",
              "          element.innerHTML = '';\n",
              "          dataTable['output_type'] = 'display_data';\n",
              "          await google.colab.output.renderOutput(dataTable, element);\n",
              "          const docLink = document.createElement('div');\n",
              "          docLink.innerHTML = docLinkHtml;\n",
              "          element.appendChild(docLink);\n",
              "        }\n",
              "      </script>\n",
              "    </div>\n",
              "  </div>\n",
              "  "
            ],
            "text/plain": [
              "   account_length  number_vmail_messages  total_day_calls  total_eve_calls  \\\n",
              "0        0.535865               0.490196         0.572581         0.488189   \n",
              "1        0.493671               0.000000         0.475806         0.503937   \n",
              "2        0.257384               0.000000         0.250000         0.307087   \n",
              "3        0.388186               0.000000         0.604839         0.582677   \n",
              "4        0.729958               0.000000         0.298387         0.590551   \n",
              "\n",
              "   total_night_calls  total_intl_calls  number_customer_service_calls  \\\n",
              "0           0.506410          0.157895                       0.166667   \n",
              "1           0.679487          0.315789                       0.000000   \n",
              "2           0.557692          0.315789                       0.666667   \n",
              "3           0.698718          0.157895                       0.500000   \n",
              "4           0.660256          0.263158                       0.500000   \n",
              "\n",
              "   total_day_minutes  total_day_charge  total_eve_minutes  total_eve_charge  \\\n",
              "0           0.746675          0.746653           0.499850          0.500000   \n",
              "1           0.623411          0.623370           0.569624          0.569710   \n",
              "2           0.319834          0.319770           0.830075          0.830149   \n",
              "3           0.526751          0.526691           0.562406          0.562633   \n",
              "4           0.330476          0.330377           0.739549          0.739561   \n",
              "\n",
              "   total_night_minutes  total_night_charge  total_intl_minutes  \\\n",
              "0             0.618379            0.618440            0.529101   \n",
              "1             0.488194            0.488652            0.333333   \n",
              "2             0.485322            0.485816            0.693122   \n",
              "3             0.251117            0.251064            0.428571   \n",
              "4             0.637524            0.637589            0.820106   \n",
              "\n",
              "   total_intl_charge state      area_code international_plan voice_mail_plan  \\\n",
              "0           0.529412    KS  area_code_415                 no             yes   \n",
              "1           0.333333    AL  area_code_510                yes              no   \n",
              "2           0.694118    IA  area_code_415                 no              no   \n",
              "3           0.429412    VT  area_code_510                 no              no   \n",
              "4           0.821569    NE  area_code_415                 no              no   \n",
              "\n",
              "   id  \n",
              "0   1  \n",
              "1   2  \n",
              "2   3  \n",
              "3   4  \n",
              "4   5  "
            ]
          },
          "execution_count": 597,
          "metadata": {},
          "output_type": "execute_result"
        }
      ],
      "source": [
        "new_df_test.head()"
      ]
    },
    {
      "cell_type": "code",
      "execution_count": null,
      "metadata": {
        "id": "_v14C0ETh_JQ"
      },
      "outputs": [],
      "source": [
        "new_df_test[target_variable_test] = new_df_test[target_variable_test].astype(int)"
      ]
    },
    {
      "cell_type": "code",
      "execution_count": null,
      "metadata": {
        "colab": {
          "base_uri": "https://localhost:8080/"
        },
        "id": "MBk2E-SViE3j",
        "outputId": "793efe99-843d-47df-c4ee-e89f261d815d"
      },
      "outputs": [
        {
          "data": {
            "text/plain": [
              "(750, 74)"
            ]
          },
          "execution_count": 599,
          "metadata": {},
          "output_type": "execute_result"
        }
      ],
      "source": [
        "new_df_test = pd.get_dummies(new_df_test)\n",
        "new_df_test.shape"
      ]
    },
    {
      "cell_type": "markdown",
      "metadata": {
        "id": "NICbeICnNTq2"
      },
      "source": [
        "###One Hot Encoder - Categorical Feature Train.csv"
      ]
    },
    {
      "cell_type": "code",
      "execution_count": null,
      "metadata": {
        "colab": {
          "base_uri": "https://localhost:8080/"
        },
        "id": "lmyYYllfNE7p",
        "outputId": "d937ac26-aaff-474e-8865-5456735cd891"
      },
      "outputs": [
        {
          "data": {
            "text/plain": [
              "['state', 'area_code', 'international_plan', 'voice_mail_plan']"
            ]
          },
          "execution_count": 600,
          "metadata": {},
          "output_type": "execute_result"
        }
      ],
      "source": [
        "cat_col"
      ]
    },
    {
      "cell_type": "code",
      "execution_count": null,
      "metadata": {
        "colab": {
          "base_uri": "https://localhost:8080/"
        },
        "id": "hoiOxmspNgQa",
        "outputId": "505f3f32-ca41-4134-e6a3-69f6b22a3fec"
      },
      "outputs": [
        {
          "data": {
            "text/plain": [
              "(4250, 20)"
            ]
          },
          "execution_count": 601,
          "metadata": {},
          "output_type": "execute_result"
        }
      ],
      "source": [
        "new_df_train = pd.concat([X_transform, df_train[cat_col], df_train[target_variable]], axis=1)\n",
        "new_df_train.shape"
      ]
    },
    {
      "cell_type": "code",
      "execution_count": null,
      "metadata": {
        "colab": {
          "base_uri": "https://localhost:8080/"
        },
        "id": "BQn5cfAE3mmf",
        "outputId": "b9ac52b8-2e8d-4109-e9b6-0e109e1557b8"
      },
      "outputs": [
        {
          "data": {
            "text/html": [
              "\n",
              "  <div id=\"df-08c57a30-c0c5-4de2-8bb2-5874889e4018\">\n",
              "    <div class=\"colab-df-container\">\n",
              "      <div>\n",
              "<style scoped>\n",
              "    .dataframe tbody tr th:only-of-type {\n",
              "        vertical-align: middle;\n",
              "    }\n",
              "\n",
              "    .dataframe tbody tr th {\n",
              "        vertical-align: top;\n",
              "    }\n",
              "\n",
              "    .dataframe thead th {\n",
              "        text-align: right;\n",
              "    }\n",
              "</style>\n",
              "<table border=\"1\" class=\"dataframe\">\n",
              "  <thead>\n",
              "    <tr style=\"text-align: right;\">\n",
              "      <th></th>\n",
              "      <th>account_length</th>\n",
              "      <th>number_vmail_messages</th>\n",
              "      <th>total_day_calls</th>\n",
              "      <th>total_eve_calls</th>\n",
              "      <th>total_night_calls</th>\n",
              "      <th>total_intl_calls</th>\n",
              "      <th>number_customer_service_calls</th>\n",
              "      <th>total_day_minutes</th>\n",
              "      <th>total_day_charge</th>\n",
              "      <th>total_eve_minutes</th>\n",
              "      <th>total_eve_charge</th>\n",
              "      <th>total_night_minutes</th>\n",
              "      <th>total_night_charge</th>\n",
              "      <th>total_intl_minutes</th>\n",
              "      <th>total_intl_charge</th>\n",
              "      <th>state</th>\n",
              "      <th>area_code</th>\n",
              "      <th>international_plan</th>\n",
              "      <th>voice_mail_plan</th>\n",
              "      <th>churn</th>\n",
              "    </tr>\n",
              "  </thead>\n",
              "  <tbody>\n",
              "    <tr>\n",
              "      <th>0</th>\n",
              "      <td>0.438017</td>\n",
              "      <td>0.500000</td>\n",
              "      <td>0.745455</td>\n",
              "      <td>0.605882</td>\n",
              "      <td>0.588571</td>\n",
              "      <td>0.15</td>\n",
              "      <td>0.111111</td>\n",
              "      <td>0.459744</td>\n",
              "      <td>0.459672</td>\n",
              "      <td>0.544114</td>\n",
              "      <td>0.544204</td>\n",
              "      <td>0.644051</td>\n",
              "      <td>0.644344</td>\n",
              "      <td>0.685</td>\n",
              "      <td>0.685185</td>\n",
              "      <td>OH</td>\n",
              "      <td>area_code_415</td>\n",
              "      <td>no</td>\n",
              "      <td>yes</td>\n",
              "      <td>0</td>\n",
              "    </tr>\n",
              "    <tr>\n",
              "      <th>1</th>\n",
              "      <td>0.561983</td>\n",
              "      <td>0.000000</td>\n",
              "      <td>0.690909</td>\n",
              "      <td>0.647059</td>\n",
              "      <td>0.594286</td>\n",
              "      <td>0.25</td>\n",
              "      <td>0.000000</td>\n",
              "      <td>0.692461</td>\n",
              "      <td>0.692436</td>\n",
              "      <td>0.337323</td>\n",
              "      <td>0.337263</td>\n",
              "      <td>0.411646</td>\n",
              "      <td>0.411930</td>\n",
              "      <td>0.610</td>\n",
              "      <td>0.609259</td>\n",
              "      <td>NJ</td>\n",
              "      <td>area_code_415</td>\n",
              "      <td>no</td>\n",
              "      <td>no</td>\n",
              "      <td>0</td>\n",
              "    </tr>\n",
              "    <tr>\n",
              "      <th>2</th>\n",
              "      <td>0.342975</td>\n",
              "      <td>0.000000</td>\n",
              "      <td>0.430303</td>\n",
              "      <td>0.517647</td>\n",
              "      <td>0.508571</td>\n",
              "      <td>0.35</td>\n",
              "      <td>0.222222</td>\n",
              "      <td>0.851778</td>\n",
              "      <td>0.851740</td>\n",
              "      <td>0.172279</td>\n",
              "      <td>0.172233</td>\n",
              "      <td>0.498481</td>\n",
              "      <td>0.498593</td>\n",
              "      <td>0.330</td>\n",
              "      <td>0.329630</td>\n",
              "      <td>OH</td>\n",
              "      <td>area_code_408</td>\n",
              "      <td>yes</td>\n",
              "      <td>no</td>\n",
              "      <td>0</td>\n",
              "    </tr>\n",
              "    <tr>\n",
              "      <th>3</th>\n",
              "      <td>0.305785</td>\n",
              "      <td>0.000000</td>\n",
              "      <td>0.684848</td>\n",
              "      <td>0.717647</td>\n",
              "      <td>0.691429</td>\n",
              "      <td>0.15</td>\n",
              "      <td>0.333333</td>\n",
              "      <td>0.474253</td>\n",
              "      <td>0.474230</td>\n",
              "      <td>0.412747</td>\n",
              "      <td>0.412901</td>\n",
              "      <td>0.473165</td>\n",
              "      <td>0.473270</td>\n",
              "      <td>0.505</td>\n",
              "      <td>0.505556</td>\n",
              "      <td>OK</td>\n",
              "      <td>area_code_415</td>\n",
              "      <td>yes</td>\n",
              "      <td>no</td>\n",
              "      <td>0</td>\n",
              "    </tr>\n",
              "    <tr>\n",
              "      <th>4</th>\n",
              "      <td>0.495868</td>\n",
              "      <td>0.461538</td>\n",
              "      <td>0.533333</td>\n",
              "      <td>0.635294</td>\n",
              "      <td>0.674286</td>\n",
              "      <td>0.35</td>\n",
              "      <td>0.333333</td>\n",
              "      <td>0.620768</td>\n",
              "      <td>0.620649</td>\n",
              "      <td>0.969942</td>\n",
              "      <td>0.969876</td>\n",
              "      <td>0.538228</td>\n",
              "      <td>0.538548</td>\n",
              "      <td>0.375</td>\n",
              "      <td>0.375926</td>\n",
              "      <td>MA</td>\n",
              "      <td>area_code_510</td>\n",
              "      <td>no</td>\n",
              "      <td>yes</td>\n",
              "      <td>0</td>\n",
              "    </tr>\n",
              "  </tbody>\n",
              "</table>\n",
              "</div>\n",
              "      <button class=\"colab-df-convert\" onclick=\"convertToInteractive('df-08c57a30-c0c5-4de2-8bb2-5874889e4018')\"\n",
              "              title=\"Convert this dataframe to an interactive table.\"\n",
              "              style=\"display:none;\">\n",
              "        \n",
              "  <svg xmlns=\"http://www.w3.org/2000/svg\" height=\"24px\"viewBox=\"0 0 24 24\"\n",
              "       width=\"24px\">\n",
              "    <path d=\"M0 0h24v24H0V0z\" fill=\"none\"/>\n",
              "    <path d=\"M18.56 5.44l.94 2.06.94-2.06 2.06-.94-2.06-.94-.94-2.06-.94 2.06-2.06.94zm-11 1L8.5 8.5l.94-2.06 2.06-.94-2.06-.94L8.5 2.5l-.94 2.06-2.06.94zm10 10l.94 2.06.94-2.06 2.06-.94-2.06-.94-.94-2.06-.94 2.06-2.06.94z\"/><path d=\"M17.41 7.96l-1.37-1.37c-.4-.4-.92-.59-1.43-.59-.52 0-1.04.2-1.43.59L10.3 9.45l-7.72 7.72c-.78.78-.78 2.05 0 2.83L4 21.41c.39.39.9.59 1.41.59.51 0 1.02-.2 1.41-.59l7.78-7.78 2.81-2.81c.8-.78.8-2.07 0-2.86zM5.41 20L4 18.59l7.72-7.72 1.47 1.35L5.41 20z\"/>\n",
              "  </svg>\n",
              "      </button>\n",
              "      \n",
              "  <style>\n",
              "    .colab-df-container {\n",
              "      display:flex;\n",
              "      flex-wrap:wrap;\n",
              "      gap: 12px;\n",
              "    }\n",
              "\n",
              "    .colab-df-convert {\n",
              "      background-color: #E8F0FE;\n",
              "      border: none;\n",
              "      border-radius: 50%;\n",
              "      cursor: pointer;\n",
              "      display: none;\n",
              "      fill: #1967D2;\n",
              "      height: 32px;\n",
              "      padding: 0 0 0 0;\n",
              "      width: 32px;\n",
              "    }\n",
              "\n",
              "    .colab-df-convert:hover {\n",
              "      background-color: #E2EBFA;\n",
              "      box-shadow: 0px 1px 2px rgba(60, 64, 67, 0.3), 0px 1px 3px 1px rgba(60, 64, 67, 0.15);\n",
              "      fill: #174EA6;\n",
              "    }\n",
              "\n",
              "    [theme=dark] .colab-df-convert {\n",
              "      background-color: #3B4455;\n",
              "      fill: #D2E3FC;\n",
              "    }\n",
              "\n",
              "    [theme=dark] .colab-df-convert:hover {\n",
              "      background-color: #434B5C;\n",
              "      box-shadow: 0px 1px 3px 1px rgba(0, 0, 0, 0.15);\n",
              "      filter: drop-shadow(0px 1px 2px rgba(0, 0, 0, 0.3));\n",
              "      fill: #FFFFFF;\n",
              "    }\n",
              "  </style>\n",
              "\n",
              "      <script>\n",
              "        const buttonEl =\n",
              "          document.querySelector('#df-08c57a30-c0c5-4de2-8bb2-5874889e4018 button.colab-df-convert');\n",
              "        buttonEl.style.display =\n",
              "          google.colab.kernel.accessAllowed ? 'block' : 'none';\n",
              "\n",
              "        async function convertToInteractive(key) {\n",
              "          const element = document.querySelector('#df-08c57a30-c0c5-4de2-8bb2-5874889e4018');\n",
              "          const dataTable =\n",
              "            await google.colab.kernel.invokeFunction('convertToInteractive',\n",
              "                                                     [key], {});\n",
              "          if (!dataTable) return;\n",
              "\n",
              "          const docLinkHtml = 'Like what you see? Visit the ' +\n",
              "            '<a target=\"_blank\" href=https://colab.research.google.com/notebooks/data_table.ipynb>data table notebook</a>'\n",
              "            + ' to learn more about interactive tables.';\n",
              "          element.innerHTML = '';\n",
              "          dataTable['output_type'] = 'display_data';\n",
              "          await google.colab.output.renderOutput(dataTable, element);\n",
              "          const docLink = document.createElement('div');\n",
              "          docLink.innerHTML = docLinkHtml;\n",
              "          element.appendChild(docLink);\n",
              "        }\n",
              "      </script>\n",
              "    </div>\n",
              "  </div>\n",
              "  "
            ],
            "text/plain": [
              "   account_length  number_vmail_messages  total_day_calls  total_eve_calls  \\\n",
              "0        0.438017               0.500000         0.745455         0.605882   \n",
              "1        0.561983               0.000000         0.690909         0.647059   \n",
              "2        0.342975               0.000000         0.430303         0.517647   \n",
              "3        0.305785               0.000000         0.684848         0.717647   \n",
              "4        0.495868               0.461538         0.533333         0.635294   \n",
              "\n",
              "   total_night_calls  total_intl_calls  number_customer_service_calls  \\\n",
              "0           0.588571              0.15                       0.111111   \n",
              "1           0.594286              0.25                       0.000000   \n",
              "2           0.508571              0.35                       0.222222   \n",
              "3           0.691429              0.15                       0.333333   \n",
              "4           0.674286              0.35                       0.333333   \n",
              "\n",
              "   total_day_minutes  total_day_charge  total_eve_minutes  total_eve_charge  \\\n",
              "0           0.459744          0.459672           0.544114          0.544204   \n",
              "1           0.692461          0.692436           0.337323          0.337263   \n",
              "2           0.851778          0.851740           0.172279          0.172233   \n",
              "3           0.474253          0.474230           0.412747          0.412901   \n",
              "4           0.620768          0.620649           0.969942          0.969876   \n",
              "\n",
              "   total_night_minutes  total_night_charge  total_intl_minutes  \\\n",
              "0             0.644051            0.644344               0.685   \n",
              "1             0.411646            0.411930               0.610   \n",
              "2             0.498481            0.498593               0.330   \n",
              "3             0.473165            0.473270               0.505   \n",
              "4             0.538228            0.538548               0.375   \n",
              "\n",
              "   total_intl_charge state      area_code international_plan voice_mail_plan  \\\n",
              "0           0.685185    OH  area_code_415                 no             yes   \n",
              "1           0.609259    NJ  area_code_415                 no              no   \n",
              "2           0.329630    OH  area_code_408                yes              no   \n",
              "3           0.505556    OK  area_code_415                yes              no   \n",
              "4           0.375926    MA  area_code_510                 no             yes   \n",
              "\n",
              "   churn  \n",
              "0      0  \n",
              "1      0  \n",
              "2      0  \n",
              "3      0  \n",
              "4      0  "
            ]
          },
          "execution_count": 602,
          "metadata": {},
          "output_type": "execute_result"
        }
      ],
      "source": [
        "new_df_train.head()"
      ]
    },
    {
      "cell_type": "code",
      "execution_count": null,
      "metadata": {
        "id": "H-9o12ru_9qD"
      },
      "outputs": [],
      "source": [
        "new_df_train[target_variable] = new_df_train[target_variable].astype(int)"
      ]
    },
    {
      "cell_type": "code",
      "execution_count": null,
      "metadata": {
        "colab": {
          "base_uri": "https://localhost:8080/"
        },
        "id": "0AeBcX0iU7ep",
        "outputId": "910c6d2a-cd2b-4967-ba14-d226dbba6fbc"
      },
      "outputs": [
        {
          "data": {
            "text/plain": [
              "(4250, 74)"
            ]
          },
          "execution_count": 604,
          "metadata": {},
          "output_type": "execute_result"
        }
      ],
      "source": [
        "new_df_train = pd.get_dummies(new_df_train)\n",
        "new_df_train.shape"
      ]
    },
    {
      "cell_type": "code",
      "execution_count": null,
      "metadata": {
        "colab": {
          "base_uri": "https://localhost:8080/"
        },
        "id": "IxizdxOHCpUF",
        "outputId": "7d9bea88-128a-418e-9996-b81c34f7b491"
      },
      "outputs": [
        {
          "data": {
            "text/html": [
              "\n",
              "  <div id=\"df-ec11552b-9df5-4efe-9aad-aa6fad0a1a1b\">\n",
              "    <div class=\"colab-df-container\">\n",
              "      <div>\n",
              "<style scoped>\n",
              "    .dataframe tbody tr th:only-of-type {\n",
              "        vertical-align: middle;\n",
              "    }\n",
              "\n",
              "    .dataframe tbody tr th {\n",
              "        vertical-align: top;\n",
              "    }\n",
              "\n",
              "    .dataframe thead th {\n",
              "        text-align: right;\n",
              "    }\n",
              "</style>\n",
              "<table border=\"1\" class=\"dataframe\">\n",
              "  <thead>\n",
              "    <tr style=\"text-align: right;\">\n",
              "      <th></th>\n",
              "      <th>account_length</th>\n",
              "      <th>number_vmail_messages</th>\n",
              "      <th>total_day_calls</th>\n",
              "      <th>total_eve_calls</th>\n",
              "      <th>total_night_calls</th>\n",
              "      <th>total_intl_calls</th>\n",
              "      <th>number_customer_service_calls</th>\n",
              "      <th>total_day_minutes</th>\n",
              "      <th>total_day_charge</th>\n",
              "      <th>total_eve_minutes</th>\n",
              "      <th>...</th>\n",
              "      <th>state_WI</th>\n",
              "      <th>state_WV</th>\n",
              "      <th>state_WY</th>\n",
              "      <th>area_code_area_code_408</th>\n",
              "      <th>area_code_area_code_415</th>\n",
              "      <th>area_code_area_code_510</th>\n",
              "      <th>international_plan_no</th>\n",
              "      <th>international_plan_yes</th>\n",
              "      <th>voice_mail_plan_no</th>\n",
              "      <th>voice_mail_plan_yes</th>\n",
              "    </tr>\n",
              "  </thead>\n",
              "  <tbody>\n",
              "    <tr>\n",
              "      <th>0</th>\n",
              "      <td>0.438017</td>\n",
              "      <td>0.500000</td>\n",
              "      <td>0.745455</td>\n",
              "      <td>0.605882</td>\n",
              "      <td>0.588571</td>\n",
              "      <td>0.15</td>\n",
              "      <td>0.111111</td>\n",
              "      <td>0.459744</td>\n",
              "      <td>0.459672</td>\n",
              "      <td>0.544114</td>\n",
              "      <td>...</td>\n",
              "      <td>0</td>\n",
              "      <td>0</td>\n",
              "      <td>0</td>\n",
              "      <td>0</td>\n",
              "      <td>1</td>\n",
              "      <td>0</td>\n",
              "      <td>1</td>\n",
              "      <td>0</td>\n",
              "      <td>0</td>\n",
              "      <td>1</td>\n",
              "    </tr>\n",
              "    <tr>\n",
              "      <th>1</th>\n",
              "      <td>0.561983</td>\n",
              "      <td>0.000000</td>\n",
              "      <td>0.690909</td>\n",
              "      <td>0.647059</td>\n",
              "      <td>0.594286</td>\n",
              "      <td>0.25</td>\n",
              "      <td>0.000000</td>\n",
              "      <td>0.692461</td>\n",
              "      <td>0.692436</td>\n",
              "      <td>0.337323</td>\n",
              "      <td>...</td>\n",
              "      <td>0</td>\n",
              "      <td>0</td>\n",
              "      <td>0</td>\n",
              "      <td>0</td>\n",
              "      <td>1</td>\n",
              "      <td>0</td>\n",
              "      <td>1</td>\n",
              "      <td>0</td>\n",
              "      <td>1</td>\n",
              "      <td>0</td>\n",
              "    </tr>\n",
              "    <tr>\n",
              "      <th>2</th>\n",
              "      <td>0.342975</td>\n",
              "      <td>0.000000</td>\n",
              "      <td>0.430303</td>\n",
              "      <td>0.517647</td>\n",
              "      <td>0.508571</td>\n",
              "      <td>0.35</td>\n",
              "      <td>0.222222</td>\n",
              "      <td>0.851778</td>\n",
              "      <td>0.851740</td>\n",
              "      <td>0.172279</td>\n",
              "      <td>...</td>\n",
              "      <td>0</td>\n",
              "      <td>0</td>\n",
              "      <td>0</td>\n",
              "      <td>1</td>\n",
              "      <td>0</td>\n",
              "      <td>0</td>\n",
              "      <td>0</td>\n",
              "      <td>1</td>\n",
              "      <td>1</td>\n",
              "      <td>0</td>\n",
              "    </tr>\n",
              "    <tr>\n",
              "      <th>3</th>\n",
              "      <td>0.305785</td>\n",
              "      <td>0.000000</td>\n",
              "      <td>0.684848</td>\n",
              "      <td>0.717647</td>\n",
              "      <td>0.691429</td>\n",
              "      <td>0.15</td>\n",
              "      <td>0.333333</td>\n",
              "      <td>0.474253</td>\n",
              "      <td>0.474230</td>\n",
              "      <td>0.412747</td>\n",
              "      <td>...</td>\n",
              "      <td>0</td>\n",
              "      <td>0</td>\n",
              "      <td>0</td>\n",
              "      <td>0</td>\n",
              "      <td>1</td>\n",
              "      <td>0</td>\n",
              "      <td>0</td>\n",
              "      <td>1</td>\n",
              "      <td>1</td>\n",
              "      <td>0</td>\n",
              "    </tr>\n",
              "    <tr>\n",
              "      <th>4</th>\n",
              "      <td>0.495868</td>\n",
              "      <td>0.461538</td>\n",
              "      <td>0.533333</td>\n",
              "      <td>0.635294</td>\n",
              "      <td>0.674286</td>\n",
              "      <td>0.35</td>\n",
              "      <td>0.333333</td>\n",
              "      <td>0.620768</td>\n",
              "      <td>0.620649</td>\n",
              "      <td>0.969942</td>\n",
              "      <td>...</td>\n",
              "      <td>0</td>\n",
              "      <td>0</td>\n",
              "      <td>0</td>\n",
              "      <td>0</td>\n",
              "      <td>0</td>\n",
              "      <td>1</td>\n",
              "      <td>1</td>\n",
              "      <td>0</td>\n",
              "      <td>0</td>\n",
              "      <td>1</td>\n",
              "    </tr>\n",
              "  </tbody>\n",
              "</table>\n",
              "<p>5 rows × 74 columns</p>\n",
              "</div>\n",
              "      <button class=\"colab-df-convert\" onclick=\"convertToInteractive('df-ec11552b-9df5-4efe-9aad-aa6fad0a1a1b')\"\n",
              "              title=\"Convert this dataframe to an interactive table.\"\n",
              "              style=\"display:none;\">\n",
              "        \n",
              "  <svg xmlns=\"http://www.w3.org/2000/svg\" height=\"24px\"viewBox=\"0 0 24 24\"\n",
              "       width=\"24px\">\n",
              "    <path d=\"M0 0h24v24H0V0z\" fill=\"none\"/>\n",
              "    <path d=\"M18.56 5.44l.94 2.06.94-2.06 2.06-.94-2.06-.94-.94-2.06-.94 2.06-2.06.94zm-11 1L8.5 8.5l.94-2.06 2.06-.94-2.06-.94L8.5 2.5l-.94 2.06-2.06.94zm10 10l.94 2.06.94-2.06 2.06-.94-2.06-.94-.94-2.06-.94 2.06-2.06.94z\"/><path d=\"M17.41 7.96l-1.37-1.37c-.4-.4-.92-.59-1.43-.59-.52 0-1.04.2-1.43.59L10.3 9.45l-7.72 7.72c-.78.78-.78 2.05 0 2.83L4 21.41c.39.39.9.59 1.41.59.51 0 1.02-.2 1.41-.59l7.78-7.78 2.81-2.81c.8-.78.8-2.07 0-2.86zM5.41 20L4 18.59l7.72-7.72 1.47 1.35L5.41 20z\"/>\n",
              "  </svg>\n",
              "      </button>\n",
              "      \n",
              "  <style>\n",
              "    .colab-df-container {\n",
              "      display:flex;\n",
              "      flex-wrap:wrap;\n",
              "      gap: 12px;\n",
              "    }\n",
              "\n",
              "    .colab-df-convert {\n",
              "      background-color: #E8F0FE;\n",
              "      border: none;\n",
              "      border-radius: 50%;\n",
              "      cursor: pointer;\n",
              "      display: none;\n",
              "      fill: #1967D2;\n",
              "      height: 32px;\n",
              "      padding: 0 0 0 0;\n",
              "      width: 32px;\n",
              "    }\n",
              "\n",
              "    .colab-df-convert:hover {\n",
              "      background-color: #E2EBFA;\n",
              "      box-shadow: 0px 1px 2px rgba(60, 64, 67, 0.3), 0px 1px 3px 1px rgba(60, 64, 67, 0.15);\n",
              "      fill: #174EA6;\n",
              "    }\n",
              "\n",
              "    [theme=dark] .colab-df-convert {\n",
              "      background-color: #3B4455;\n",
              "      fill: #D2E3FC;\n",
              "    }\n",
              "\n",
              "    [theme=dark] .colab-df-convert:hover {\n",
              "      background-color: #434B5C;\n",
              "      box-shadow: 0px 1px 3px 1px rgba(0, 0, 0, 0.15);\n",
              "      filter: drop-shadow(0px 1px 2px rgba(0, 0, 0, 0.3));\n",
              "      fill: #FFFFFF;\n",
              "    }\n",
              "  </style>\n",
              "\n",
              "      <script>\n",
              "        const buttonEl =\n",
              "          document.querySelector('#df-ec11552b-9df5-4efe-9aad-aa6fad0a1a1b button.colab-df-convert');\n",
              "        buttonEl.style.display =\n",
              "          google.colab.kernel.accessAllowed ? 'block' : 'none';\n",
              "\n",
              "        async function convertToInteractive(key) {\n",
              "          const element = document.querySelector('#df-ec11552b-9df5-4efe-9aad-aa6fad0a1a1b');\n",
              "          const dataTable =\n",
              "            await google.colab.kernel.invokeFunction('convertToInteractive',\n",
              "                                                     [key], {});\n",
              "          if (!dataTable) return;\n",
              "\n",
              "          const docLinkHtml = 'Like what you see? Visit the ' +\n",
              "            '<a target=\"_blank\" href=https://colab.research.google.com/notebooks/data_table.ipynb>data table notebook</a>'\n",
              "            + ' to learn more about interactive tables.';\n",
              "          element.innerHTML = '';\n",
              "          dataTable['output_type'] = 'display_data';\n",
              "          await google.colab.output.renderOutput(dataTable, element);\n",
              "          const docLink = document.createElement('div');\n",
              "          docLink.innerHTML = docLinkHtml;\n",
              "          element.appendChild(docLink);\n",
              "        }\n",
              "      </script>\n",
              "    </div>\n",
              "  </div>\n",
              "  "
            ],
            "text/plain": [
              "   account_length  number_vmail_messages  total_day_calls  total_eve_calls  \\\n",
              "0        0.438017               0.500000         0.745455         0.605882   \n",
              "1        0.561983               0.000000         0.690909         0.647059   \n",
              "2        0.342975               0.000000         0.430303         0.517647   \n",
              "3        0.305785               0.000000         0.684848         0.717647   \n",
              "4        0.495868               0.461538         0.533333         0.635294   \n",
              "\n",
              "   total_night_calls  total_intl_calls  number_customer_service_calls  \\\n",
              "0           0.588571              0.15                       0.111111   \n",
              "1           0.594286              0.25                       0.000000   \n",
              "2           0.508571              0.35                       0.222222   \n",
              "3           0.691429              0.15                       0.333333   \n",
              "4           0.674286              0.35                       0.333333   \n",
              "\n",
              "   total_day_minutes  total_day_charge  total_eve_minutes  ...  state_WI  \\\n",
              "0           0.459744          0.459672           0.544114  ...         0   \n",
              "1           0.692461          0.692436           0.337323  ...         0   \n",
              "2           0.851778          0.851740           0.172279  ...         0   \n",
              "3           0.474253          0.474230           0.412747  ...         0   \n",
              "4           0.620768          0.620649           0.969942  ...         0   \n",
              "\n",
              "   state_WV  state_WY  area_code_area_code_408  area_code_area_code_415  \\\n",
              "0         0         0                        0                        1   \n",
              "1         0         0                        0                        1   \n",
              "2         0         0                        1                        0   \n",
              "3         0         0                        0                        1   \n",
              "4         0         0                        0                        0   \n",
              "\n",
              "   area_code_area_code_510  international_plan_no  international_plan_yes  \\\n",
              "0                        0                      1                       0   \n",
              "1                        0                      1                       0   \n",
              "2                        0                      0                       1   \n",
              "3                        0                      0                       1   \n",
              "4                        1                      1                       0   \n",
              "\n",
              "   voice_mail_plan_no  voice_mail_plan_yes  \n",
              "0                   0                    1  \n",
              "1                   1                    0  \n",
              "2                   1                    0  \n",
              "3                   1                    0  \n",
              "4                   0                    1  \n",
              "\n",
              "[5 rows x 74 columns]"
            ]
          },
          "execution_count": 605,
          "metadata": {},
          "output_type": "execute_result"
        }
      ],
      "source": [
        "new_df_train.head()"
      ]
    },
    {
      "cell_type": "markdown",
      "metadata": {
        "id": "9NhIX2e2VFNg"
      },
      "source": [
        "#Train Test Split Dataset"
      ]
    },
    {
      "cell_type": "code",
      "execution_count": null,
      "metadata": {
        "colab": {
          "base_uri": "https://localhost:8080/"
        },
        "id": "JSGT6Bryjkng",
        "outputId": "1e28460b-88dd-4fab-cfbc-4eed101b7bb7"
      },
      "outputs": [
        {
          "data": {
            "text/plain": [
              "(750, 73)"
            ]
          },
          "execution_count": 606,
          "metadata": {},
          "output_type": "execute_result"
        }
      ],
      "source": [
        "fitur_test = new_df_test.drop(target_variable_test, axis=1)\n",
        "fitur_test.shape"
      ]
    },
    {
      "cell_type": "code",
      "execution_count": null,
      "metadata": {
        "colab": {
          "base_uri": "https://localhost:8080/"
        },
        "id": "xfQ_k9H3VHrm",
        "outputId": "ddea8904-d8d0-4605-d9c0-7208bc114012"
      },
      "outputs": [
        {
          "data": {
            "text/plain": [
              "(4250, 73)"
            ]
          },
          "execution_count": 607,
          "metadata": {},
          "output_type": "execute_result"
        }
      ],
      "source": [
        "fitur_train = new_df_train.drop(target_variable, axis=1)\n",
        "fitur_train.shape"
      ]
    },
    {
      "cell_type": "code",
      "execution_count": null,
      "metadata": {
        "colab": {
          "base_uri": "https://localhost:8080/"
        },
        "id": "TNhm4cNSVava",
        "outputId": "0eaeb4c0-22ae-4f76-d70c-9eee06695f8d"
      },
      "outputs": [
        {
          "data": {
            "text/html": [
              "\n",
              "  <div id=\"df-c6122bd2-a630-4ac4-8bd9-768b2800c5c6\">\n",
              "    <div class=\"colab-df-container\">\n",
              "      <div>\n",
              "<style scoped>\n",
              "    .dataframe tbody tr th:only-of-type {\n",
              "        vertical-align: middle;\n",
              "    }\n",
              "\n",
              "    .dataframe tbody tr th {\n",
              "        vertical-align: top;\n",
              "    }\n",
              "\n",
              "    .dataframe thead th {\n",
              "        text-align: right;\n",
              "    }\n",
              "</style>\n",
              "<table border=\"1\" class=\"dataframe\">\n",
              "  <thead>\n",
              "    <tr style=\"text-align: right;\">\n",
              "      <th></th>\n",
              "      <th>churn</th>\n",
              "    </tr>\n",
              "  </thead>\n",
              "  <tbody>\n",
              "    <tr>\n",
              "      <th>count</th>\n",
              "      <td>4250.000000</td>\n",
              "    </tr>\n",
              "    <tr>\n",
              "      <th>mean</th>\n",
              "      <td>0.140706</td>\n",
              "    </tr>\n",
              "    <tr>\n",
              "      <th>std</th>\n",
              "      <td>0.347759</td>\n",
              "    </tr>\n",
              "    <tr>\n",
              "      <th>min</th>\n",
              "      <td>0.000000</td>\n",
              "    </tr>\n",
              "    <tr>\n",
              "      <th>25%</th>\n",
              "      <td>0.000000</td>\n",
              "    </tr>\n",
              "    <tr>\n",
              "      <th>50%</th>\n",
              "      <td>0.000000</td>\n",
              "    </tr>\n",
              "    <tr>\n",
              "      <th>75%</th>\n",
              "      <td>0.000000</td>\n",
              "    </tr>\n",
              "    <tr>\n",
              "      <th>max</th>\n",
              "      <td>1.000000</td>\n",
              "    </tr>\n",
              "  </tbody>\n",
              "</table>\n",
              "</div>\n",
              "      <button class=\"colab-df-convert\" onclick=\"convertToInteractive('df-c6122bd2-a630-4ac4-8bd9-768b2800c5c6')\"\n",
              "              title=\"Convert this dataframe to an interactive table.\"\n",
              "              style=\"display:none;\">\n",
              "        \n",
              "  <svg xmlns=\"http://www.w3.org/2000/svg\" height=\"24px\"viewBox=\"0 0 24 24\"\n",
              "       width=\"24px\">\n",
              "    <path d=\"M0 0h24v24H0V0z\" fill=\"none\"/>\n",
              "    <path d=\"M18.56 5.44l.94 2.06.94-2.06 2.06-.94-2.06-.94-.94-2.06-.94 2.06-2.06.94zm-11 1L8.5 8.5l.94-2.06 2.06-.94-2.06-.94L8.5 2.5l-.94 2.06-2.06.94zm10 10l.94 2.06.94-2.06 2.06-.94-2.06-.94-.94-2.06-.94 2.06-2.06.94z\"/><path d=\"M17.41 7.96l-1.37-1.37c-.4-.4-.92-.59-1.43-.59-.52 0-1.04.2-1.43.59L10.3 9.45l-7.72 7.72c-.78.78-.78 2.05 0 2.83L4 21.41c.39.39.9.59 1.41.59.51 0 1.02-.2 1.41-.59l7.78-7.78 2.81-2.81c.8-.78.8-2.07 0-2.86zM5.41 20L4 18.59l7.72-7.72 1.47 1.35L5.41 20z\"/>\n",
              "  </svg>\n",
              "      </button>\n",
              "      \n",
              "  <style>\n",
              "    .colab-df-container {\n",
              "      display:flex;\n",
              "      flex-wrap:wrap;\n",
              "      gap: 12px;\n",
              "    }\n",
              "\n",
              "    .colab-df-convert {\n",
              "      background-color: #E8F0FE;\n",
              "      border: none;\n",
              "      border-radius: 50%;\n",
              "      cursor: pointer;\n",
              "      display: none;\n",
              "      fill: #1967D2;\n",
              "      height: 32px;\n",
              "      padding: 0 0 0 0;\n",
              "      width: 32px;\n",
              "    }\n",
              "\n",
              "    .colab-df-convert:hover {\n",
              "      background-color: #E2EBFA;\n",
              "      box-shadow: 0px 1px 2px rgba(60, 64, 67, 0.3), 0px 1px 3px 1px rgba(60, 64, 67, 0.15);\n",
              "      fill: #174EA6;\n",
              "    }\n",
              "\n",
              "    [theme=dark] .colab-df-convert {\n",
              "      background-color: #3B4455;\n",
              "      fill: #D2E3FC;\n",
              "    }\n",
              "\n",
              "    [theme=dark] .colab-df-convert:hover {\n",
              "      background-color: #434B5C;\n",
              "      box-shadow: 0px 1px 3px 1px rgba(0, 0, 0, 0.15);\n",
              "      filter: drop-shadow(0px 1px 2px rgba(0, 0, 0, 0.3));\n",
              "      fill: #FFFFFF;\n",
              "    }\n",
              "  </style>\n",
              "\n",
              "      <script>\n",
              "        const buttonEl =\n",
              "          document.querySelector('#df-c6122bd2-a630-4ac4-8bd9-768b2800c5c6 button.colab-df-convert');\n",
              "        buttonEl.style.display =\n",
              "          google.colab.kernel.accessAllowed ? 'block' : 'none';\n",
              "\n",
              "        async function convertToInteractive(key) {\n",
              "          const element = document.querySelector('#df-c6122bd2-a630-4ac4-8bd9-768b2800c5c6');\n",
              "          const dataTable =\n",
              "            await google.colab.kernel.invokeFunction('convertToInteractive',\n",
              "                                                     [key], {});\n",
              "          if (!dataTable) return;\n",
              "\n",
              "          const docLinkHtml = 'Like what you see? Visit the ' +\n",
              "            '<a target=\"_blank\" href=https://colab.research.google.com/notebooks/data_table.ipynb>data table notebook</a>'\n",
              "            + ' to learn more about interactive tables.';\n",
              "          element.innerHTML = '';\n",
              "          dataTable['output_type'] = 'display_data';\n",
              "          await google.colab.output.renderOutput(dataTable, element);\n",
              "          const docLink = document.createElement('div');\n",
              "          docLink.innerHTML = docLinkHtml;\n",
              "          element.appendChild(docLink);\n",
              "        }\n",
              "      </script>\n",
              "    </div>\n",
              "  </div>\n",
              "  "
            ],
            "text/plain": [
              "             churn\n",
              "count  4250.000000\n",
              "mean      0.140706\n",
              "std       0.347759\n",
              "min       0.000000\n",
              "25%       0.000000\n",
              "50%       0.000000\n",
              "75%       0.000000\n",
              "max       1.000000"
            ]
          },
          "execution_count": 608,
          "metadata": {},
          "output_type": "execute_result"
        }
      ],
      "source": [
        "label_train = new_df_train[[target_variable]]\n",
        "label_train.describe()"
      ]
    },
    {
      "cell_type": "code",
      "execution_count": null,
      "metadata": {
        "id": "pJ1STZ4eVt4A"
      },
      "outputs": [],
      "source": [
        "from sklearn.model_selection import train_test_split\n",
        "\n",
        "x_train, x_test, y_train, y_test = train_test_split(fitur_train, label_train, stratify=label_train,  random_state=123, test_size=0.3)"
      ]
    },
    {
      "cell_type": "code",
      "execution_count": null,
      "metadata": {
        "colab": {
          "base_uri": "https://localhost:8080/"
        },
        "id": "ftHEZYUtXoXB",
        "outputId": "7fee6e54-d649-484a-c4c2-4b7b3a949961"
      },
      "outputs": [
        {
          "data": {
            "text/plain": [
              "churn\n",
              "0        0.859294\n",
              "1        0.140706\n",
              "dtype: float64"
            ]
          },
          "execution_count": 610,
          "metadata": {},
          "output_type": "execute_result"
        }
      ],
      "source": [
        "label_train.value_counts(normalize=True)"
      ]
    },
    {
      "cell_type": "code",
      "execution_count": null,
      "metadata": {
        "colab": {
          "base_uri": "https://localhost:8080/"
        },
        "id": "Y8_RSY8Gbojb",
        "outputId": "3ecb8873-f80f-4999-c610-edd9418a9ac5"
      },
      "outputs": [
        {
          "data": {
            "text/plain": [
              "churn\n",
              "0        2556\n",
              "1         419\n",
              "dtype: int64"
            ]
          },
          "execution_count": 611,
          "metadata": {},
          "output_type": "execute_result"
        }
      ],
      "source": [
        "y_train.value_counts()"
      ]
    },
    {
      "cell_type": "code",
      "execution_count": null,
      "metadata": {
        "colab": {
          "base_uri": "https://localhost:8080/"
        },
        "id": "Azxzq_8Rbv7s",
        "outputId": "bad4c8c6-a3dc-40d4-8b7c-e7e0240ce963"
      },
      "outputs": [
        {
          "data": {
            "text/plain": [
              "churn\n",
              "0        0.859608\n",
              "1        0.140392\n",
              "dtype: float64"
            ]
          },
          "execution_count": 612,
          "metadata": {},
          "output_type": "execute_result"
        }
      ],
      "source": [
        "y_test.value_counts(normalize=True)"
      ]
    },
    {
      "cell_type": "markdown",
      "metadata": {
        "id": "Mw9AiVHPbxnQ"
      },
      "source": [
        "#Undersampling"
      ]
    },
    {
      "cell_type": "code",
      "execution_count": null,
      "metadata": {
        "colab": {
          "background_save": true
        },
        "id": "hyRzideIbxDA"
      },
      "outputs": [],
      "source": [
        "from imblearn.under_sampling import RandomUnderSampler\n",
        "\n",
        "x_rus, y_rus = RandomUnderSampler().fit_resample(x_train, y_train)"
      ]
    },
    {
      "cell_type": "code",
      "execution_count": null,
      "metadata": {
        "colab": {
          "background_save": true,
          "base_uri": "https://localhost:8080/"
        },
        "id": "28gAHUqvcGze",
        "outputId": "e24fe306-7bcc-4d1c-b0c6-248c34572445"
      },
      "outputs": [
        {
          "data": {
            "text/plain": [
              "churn\n",
              "0        419\n",
              "1        419\n",
              "dtype: int64"
            ]
          },
          "execution_count": 133,
          "metadata": {},
          "output_type": "execute_result"
        }
      ],
      "source": [
        "y_rus.value_counts()"
      ]
    },
    {
      "cell_type": "markdown",
      "metadata": {
        "id": "06BVL3VYcRBc"
      },
      "source": [
        "#Support Vector Machine and KNN- Supervised Classification"
      ]
    },
    {
      "cell_type": "markdown",
      "metadata": {
        "id": "tVZgl22gKdQq"
      },
      "source": [
        "## Fit the SVM model with training data"
      ]
    },
    {
      "cell_type": "code",
      "execution_count": null,
      "metadata": {
        "colab": {
          "background_save": true
        },
        "id": "-ju3RT6eUhtx"
      },
      "outputs": [],
      "source": [
        "def evaluasi_model(model, X_test, y_test):\n",
        "    y_pred = model.predict(X_test)\n",
        "    return roc_auc_score(y_test, y_pred)"
      ]
    },
    {
      "cell_type": "code",
      "execution_count": null,
      "metadata": {
        "colab": {
          "background_save": true,
          "base_uri": "https://localhost:8080/"
        },
        "id": "whYaWY6xV6ep",
        "outputId": "cd260d50-d106-40a1-e32c-fd97f286713c"
      },
      "outputs": [
        {
          "data": {
            "text/plain": [
              "LinearSVC()"
            ]
          },
          "execution_count": 135,
          "metadata": {},
          "output_type": "execute_result"
        }
      ],
      "source": [
        "from sklearn.svm import LinearSVC\n",
        "\n",
        "svc = LinearSVC()\n",
        "svc.fit(x_train, y_train)"
      ]
    },
    {
      "cell_type": "code",
      "execution_count": null,
      "metadata": {
        "colab": {
          "background_save": true
        },
        "id": "KdmPGJJhchAv"
      },
      "outputs": [],
      "source": [
        "y_pred = svc.predict(x_test)"
      ]
    },
    {
      "cell_type": "code",
      "execution_count": null,
      "metadata": {
        "colab": {
          "background_save": true,
          "base_uri": "https://localhost:8080/"
        },
        "id": "nE1GpudGUafy",
        "outputId": "51cbcc3c-e5c2-4f9a-d05c-8378b5dca2c6"
      },
      "outputs": [
        {
          "data": {
            "text/plain": [
              "0.5858801042798824"
            ]
          },
          "execution_count": 137,
          "metadata": {},
          "output_type": "execute_result"
        }
      ],
      "source": [
        "evaluasi_model(svc, x_train, y_train)"
      ]
    },
    {
      "cell_type": "code",
      "execution_count": null,
      "metadata": {
        "colab": {
          "background_save": true,
          "base_uri": "https://localhost:8080/"
        },
        "id": "QttuLQmVUszy",
        "outputId": "5e8c6e23-2eb9-4ae4-a5b3-a5e9abfecc6c"
      },
      "outputs": [
        {
          "data": {
            "text/plain": [
              "0.5803174570811076"
            ]
          },
          "execution_count": 138,
          "metadata": {},
          "output_type": "execute_result"
        }
      ],
      "source": [
        "evaluasi_model(svc, x_test, y_test)"
      ]
    },
    {
      "cell_type": "markdown",
      "metadata": {
        "id": "2mPlPE26VB-M"
      },
      "source": [
        "## Fit the KNN model with training data"
      ]
    },
    {
      "cell_type": "code",
      "execution_count": null,
      "metadata": {
        "colab": {
          "background_save": true
        },
        "id": "SlRfdAVNVRnC"
      },
      "outputs": [],
      "source": [
        "from sklearn.neighbors import KNeighborsClassifier\n",
        "from sklearn.metrics import accuracy_score, roc_auc_score"
      ]
    },
    {
      "cell_type": "code",
      "execution_count": null,
      "metadata": {
        "colab": {
          "background_save": true,
          "base_uri": "https://localhost:8080/"
        },
        "id": "OTsC4k6dVAdD",
        "outputId": "023be5df-ad29-497d-da98-be52654e7a20"
      },
      "outputs": [
        {
          "data": {
            "text/plain": [
              "KNeighborsClassifier()"
            ]
          },
          "execution_count": 140,
          "metadata": {},
          "output_type": "execute_result"
        }
      ],
      "source": [
        "knn = KNeighborsClassifier()\n",
        "knn.fit(x_train, y_train)"
      ]
    },
    {
      "cell_type": "code",
      "execution_count": null,
      "metadata": {
        "id": "DOM8swRtXfSB"
      },
      "outputs": [],
      "source": [
        "y_pred_knn = knn.predict(x_test)"
      ]
    },
    {
      "cell_type": "code",
      "execution_count": null,
      "metadata": {
        "colab": {
          "base_uri": "https://localhost:8080/"
        },
        "id": "EN1R_OcrW0Qu",
        "outputId": "4067c41f-f3aa-4ae1-abb4-11398a2e77ac"
      },
      "outputs": [
        {
          "data": {
            "text/plain": [
              "0.6239878277887959"
            ]
          },
          "execution_count": 625,
          "metadata": {},
          "output_type": "execute_result"
        }
      ],
      "source": [
        "evaluasi_model(knn, x_train, y_train)"
      ]
    },
    {
      "cell_type": "code",
      "execution_count": null,
      "metadata": {
        "colab": {
          "base_uri": "https://localhost:8080/"
        },
        "id": "NND7NWhdW_jM",
        "outputId": "d4b5e644-d4a8-493c-c69d-306312b5a37f"
      },
      "outputs": [
        {
          "data": {
            "text/plain": [
              "0.5537531093259389"
            ]
          },
          "execution_count": 626,
          "metadata": {},
          "output_type": "execute_result"
        }
      ],
      "source": [
        "evaluasi_model(knn, x_test, y_test)"
      ]
    },
    {
      "cell_type": "markdown",
      "metadata": {
        "id": "PSHZGp4QXs6h"
      },
      "source": [
        "### Accuracy, Precision, Recall and Confusion Matrix KNN"
      ]
    },
    {
      "cell_type": "code",
      "execution_count": null,
      "metadata": {
        "colab": {
          "base_uri": "https://localhost:8080/"
        },
        "id": "kGO2XK1XXv4H",
        "outputId": "238cf798-8fc2-45fc-c4d9-0200a3674f03"
      },
      "outputs": [
        {
          "name": "stdout",
          "output_type": "stream",
          "text": [
            "0.8596078431372549\n"
          ]
        }
      ],
      "source": [
        "from sklearn.metrics import confusion_matrix\n",
        "from sklearn.metrics import recall_score\n",
        "from sklearn.metrics import precision_score\n",
        "\n",
        "tn, fp, fn, tp = confusion_matrix(y_test, y_pred_knn).ravel()\n",
        "accuracy = (tn + tp)/(tn + fp + fn + tp)\n",
        "print(accuracy)"
      ]
    },
    {
      "cell_type": "code",
      "execution_count": null,
      "metadata": {
        "colab": {
          "base_uri": "https://localhost:8080/"
        },
        "id": "5fYfaMD1X4VK",
        "outputId": "f9b3145e-cb8c-44c9-d9ec-c9dcd66f54a0"
      },
      "outputs": [
        {
          "data": {
            "text/plain": [
              "array([0.87306753, 0.5       ])"
            ]
          },
          "execution_count": 628,
          "metadata": {},
          "output_type": "execute_result"
        }
      ],
      "source": [
        "precision_score(y_test, y_pred_knn, average=None)"
      ]
    },
    {
      "cell_type": "code",
      "execution_count": null,
      "metadata": {
        "colab": {
          "base_uri": "https://localhost:8080/"
        },
        "id": "ZA-6t8NUX4p2",
        "outputId": "ec839981-caca-41f5-9728-6501de1f29f0"
      },
      "outputs": [
        {
          "data": {
            "text/plain": [
              "array([0.9790146 , 0.12849162])"
            ]
          },
          "execution_count": 629,
          "metadata": {},
          "output_type": "execute_result"
        }
      ],
      "source": [
        "recall_score(y_test, y_pred_knn, average=None)"
      ]
    },
    {
      "cell_type": "code",
      "execution_count": null,
      "metadata": {
        "id": "UelaPLLSu9tT"
      },
      "outputs": [],
      "source": [
        "from sklearn import metrics\n",
        "\n",
        "confusion_matrix1 = metrics.confusion_matrix(y_test, y_pred_knn)"
      ]
    },
    {
      "cell_type": "code",
      "execution_count": null,
      "metadata": {
        "colab": {
          "base_uri": "https://localhost:8080/",
          "height": 282
        },
        "id": "PDaYubDvvRND",
        "outputId": "f1d74bf5-90cb-449f-c8d5-e057686b70b0"
      },
      "outputs": [
        {
          "data": {
            "text/plain": [
              "<matplotlib.axes._subplots.AxesSubplot at 0x7f681706a9d0>"
            ]
          },
          "execution_count": 631,
          "metadata": {},
          "output_type": "execute_result"
        },
        {
          "data": {
            "image/png": "[encoded data removed]",
            "text/plain": [
              "<Figure size 432x288 with 2 Axes>"
            ]
          },
          "metadata": {},
          "output_type": "display_data"
        }
      ],
      "source": [
        "group_names = ['True Neg','False Pos','False Neg','True Pos']\n",
        "\n",
        "group_counts = [\"{0:0.0f}\".format(value) for value in\n",
        "                confusion_matrix1.flatten()]\n",
        "group_percentages = [\"{0:.2%}\".format(value) for value in\n",
        "                     confusion_matrix1.flatten()/np.sum(confusion_matrix1)]\n",
        "labels = [f\"{v1}\\n{v2}\\n{v3}\" for v1, v2, v3 in\n",
        "          zip(group_names,group_counts,group_percentages)]\n",
        "labels = np.asarray(labels).reshape(2,2)\n",
        "sns.heatmap(confusion_matrix1, annot=labels, fmt=\"\", cmap='Blues')"
      ]
    },
    {
      "cell_type": "markdown",
      "metadata": {
        "id": "rGzBHKjIOQaT"
      },
      "source": [
        "### Accuracy, Precision, Recall and Confusion Matrix SVM"
      ]
    },
    {
      "cell_type": "code",
      "execution_count": null,
      "metadata": {
        "colab": {
          "base_uri": "https://localhost:8080/"
        },
        "id": "_wdgIKfwcrNb",
        "outputId": "6ee4a86c-7701-412c-8832-108d87712472"
      },
      "outputs": [
        {
          "name": "stdout",
          "output_type": "stream",
          "text": [
            "0.8650980392156863\n"
          ]
        }
      ],
      "source": [
        "tn, fp, fn, tp = confusion_matrix(y_test, y_pred).ravel()\n",
        "accuracy = (tn + tp)/(tn + fp + fn + tp)\n",
        "print(accuracy)"
      ]
    },
    {
      "cell_type": "code",
      "execution_count": null,
      "metadata": {
        "colab": {
          "base_uri": "https://localhost:8080/"
        },
        "id": "7xiMyZ3OOYiJ",
        "outputId": "4fa06c66-853c-470c-f887-11fecee52b32"
      },
      "outputs": [
        {
          "data": {
            "text/plain": [
              "array([0.87993421, 0.55932203])"
            ]
          },
          "execution_count": 633,
          "metadata": {},
          "output_type": "execute_result"
        }
      ],
      "source": [
        "precision_score(y_test, y_pred, average=None)"
      ]
    },
    {
      "cell_type": "code",
      "execution_count": null,
      "metadata": {
        "colab": {
          "base_uri": "https://localhost:8080/"
        },
        "id": "4oUKVHB3OVla",
        "outputId": "930a75ce-a7c0-48cf-fbf3-371ccdd87a82"
      },
      "outputs": [
        {
          "data": {
            "text/plain": [
              "array([0.97627737, 0.18435754])"
            ]
          },
          "execution_count": 634,
          "metadata": {},
          "output_type": "execute_result"
        }
      ],
      "source": [
        "recall_score(y_test, y_pred, average=None)"
      ]
    },
    {
      "cell_type": "code",
      "execution_count": null,
      "metadata": {
        "colab": {
          "base_uri": "https://localhost:8080/"
        },
        "id": "sDvd0x15LIjZ",
        "outputId": "7d11fa11-9f8e-4d2e-f83e-fe4fa9751a97"
      },
      "outputs": [
        {
          "data": {
            "text/plain": [
              "array([[1070,   26],\n",
              "       [ 146,   33]])"
            ]
          },
          "execution_count": 635,
          "metadata": {},
          "output_type": "execute_result"
        }
      ],
      "source": [
        "confusion_matrix(y_test, y_pred)"
      ]
    },
    {
      "cell_type": "code",
      "execution_count": null,
      "metadata": {
        "id": "ZwgwHa1tM5Wk"
      },
      "outputs": [],
      "source": [
        "from sklearn import metrics\n",
        "\n",
        "confusion_matrix = metrics.confusion_matrix(y_test, y_pred)"
      ]
    },
    {
      "cell_type": "code",
      "execution_count": null,
      "metadata": {
        "colab": {
          "base_uri": "https://localhost:8080/",
          "height": 282
        },
        "id": "foXucEY7QJ1M",
        "outputId": "283df54f-f6b9-4a76-a39c-04ce6613af52"
      },
      "outputs": [
        {
          "data": {
            "text/plain": [
              "<matplotlib.axes._subplots.AxesSubplot at 0x7f68166c7890>"
            ]
          },
          "execution_count": 637,
          "metadata": {},
          "output_type": "execute_result"
        },
        {
          "data": {
            "image/png": "[encoded data removed]",
            "text/plain": [
              "<Figure size 432x288 with 2 Axes>"
            ]
          },
          "metadata": {},
          "output_type": "display_data"
        }
      ],
      "source": [
        "group_names = ['True Neg','False Pos','False Neg','True Pos']\n",
        "\n",
        "group_counts = [\"{0:0.0f}\".format(value) for value in\n",
        "                confusion_matrix.flatten()]\n",
        "group_percentages = [\"{0:.2%}\".format(value) for value in\n",
        "                     confusion_matrix.flatten()/np.sum(confusion_matrix)]\n",
        "labels = [f\"{v1}\\n{v2}\\n{v3}\" for v1, v2, v3 in\n",
        "          zip(group_names,group_counts,group_percentages)]\n",
        "labels = np.asarray(labels).reshape(2,2)\n",
        "sns.heatmap(confusion_matrix, annot=labels, fmt=\"\", cmap='Blues')"
      ]
    },
    {
      "cell_type": "markdown",
      "metadata": {
        "id": "VqVyW8JGKRMc"
      },
      "source": [
        "## Perform SVM Classification Prediction using testing dataset"
      ]
    },
    {
      "cell_type": "code",
      "execution_count": null,
      "metadata": {
        "colab": {
          "base_uri": "https://localhost:8080/"
        },
        "id": "Ejwnz94lcwkh",
        "outputId": "36d4cbea-4c70-4618-df42-4b98a8566912"
      },
      "outputs": [
        {
          "name": "stdout",
          "output_type": "stream",
          "text": [
            "[0 0 0 0 0 0 0 0 0 0 0 0 0 0 0 0 0 0 0 0 0 0 0 0 0 0 1 0 0 0 0 0 0 0 0 0 0\n",
            " 1 0 0 0 0 0 0 0 0 0 0 0 0 0 0 0 0 1 0 0 0 0 0 1 0 0 0 0 0 0 0 0 0 0 0 0 0\n",
            " 0 0 0 0 0 0 0 0 0 0 0 0 0 0 0 0 0 1 0 0 0 0 0 0 0 1 0 0 0 0 0 0 0 0 0 0 0\n",
            " 0 0 0 0 1 0 0 0 0 0 0 0 0 0 0 0 0 1 0 0 0 0 0 0 0 0 0 0 0 1 1 0 0 0 0 0 0\n",
            " 0 1 0 0 0 0 0 0 0 0 0 0 0 0 1 0 0 0 0 0 0 0 0 0 0 0 0 0 0 0 0 0 0 0 0 0 0\n",
            " 0 0 0 0 0 0 0 0 0 0 0 0 0 0 1 0 1 0 1 0 0 0 0 0 0 0 0 1 0 0 0 0 0 0 0 1 0\n",
            " 0 0 0 0 0 0 0 0 0 0 0 0 0 0 0 0 0 0 0 1 0 0 0 0 0 0 0 0 1 0 0 0 0 0 0 0 0\n",
            " 0 0 0 0 0 0 0 0 0 0 1 0 0 0 0 0 0 0 0 0 0 0 0 0 0 0 1 0 0 0 0 0 0 0 0 0 0\n",
            " 0 0 0 0 0 0 0 0 0 1 0 0 0 0 0 0 0 0 0 0 0 0 1 0 0 0 0 0 0 0 0 0 0 0 0 0 0\n",
            " 0 0 0 0 0 0 0 0 0 0 0 0 0 0 0 0 0 0 0 0 0 0 0 0 1 0 0 0 1 1 0 0 0 0 0 0 0\n",
            " 1 0 0 0 0 0 0 0 0 0 0 0 0 1 0 0 0 0 0 0 0 0 0 0 0 0 0 1 0 0 0 0 0 0 1 0 0\n",
            " 0 0 1 0 0 0 0 0 0 1 0 0 0 0 0 0 0 0 0 0 0 0 0 1 0 0 0 0 0 0 0 0 0 0 0 0 0\n",
            " 0 0 0 0 0 0 1 0 0 1 0 0 0 0 0 0 0 0 0 0 0 0 0 0 0 0 0 0 0 0 0 0 0 0 0 0 0\n",
            " 0 0 0 0 0 0 0 0 0 0 0 1 0 1 0 0 0 0 0 0 0 0 0 0 0 0 0 0 0 0 0 0 0 0 0 0 1\n",
            " 0 1 0 0 0 0 0 0 0 0 0 0 0 0 0 0 1 1 0 0 0 0 0 0 0 0 0 0 0 0 0 0 0 0 0 0 0\n",
            " 0 0 0 0 0 0 0 0 0 1 0 0 1 0 0 0 0 0 0 0 0 0 0 0 0 0 0 0 0 0 0 0 0 0 0 0 0\n",
            " 0 0 0 0 0 0 0 0 0 0 0 0 0 0 0 0 0 0 0 0 0 1 1 0 0 0 1 1 0 0 0 0 0 0 0 0 1\n",
            " 0 0 0 0 0 0 0 0 0 0 0 0 0 0 0 0 1 0 0 0 0 0 0 0 0 0 0 0 0 0 1 0 0 0 1 0 0\n",
            " 0 0 0 0 0 0 0 0 0 0 0 0 0 0 0 0 1 0 0 0 0 0 0 0 0 0 0 0 0 0 0 0 0 1 0 0 0\n",
            " 0 0 0 0 1 0 0 0 0 1 0 0 0 0 0 0 0 0 0 0 0 0 0 0 0 0 0 0 0 0 0 0 0 1 0 1 0\n",
            " 0 0 0 0 0 0 1 0 0 0]\n"
          ]
        }
      ],
      "source": [
        "y_pred_test = svc.predict(fitur_test)\n",
        "print(y_pred_test)"
      ]
    },
    {
      "cell_type": "code",
      "execution_count": null,
      "metadata": {
        "colab": {
          "base_uri": "https://localhost:8080/"
        },
        "id": "k_mvwX2bkzem",
        "outputId": "12b0863d-54d7-4dd3-c7fd-049873be06dd"
      },
      "outputs": [
        {
          "name": "stdout",
          "output_type": "stream",
          "text": [
            "[[0.         0.92266667]\n",
            " [1.         0.07733333]]\n"
          ]
        }
      ],
      "source": [
        "import numpy as np\n",
        "(unique, counts) = np.unique(y_pred_test, return_counts=True)\n",
        "frequencies = np.asarray((unique, counts/750)).T\n",
        "\n",
        "print(frequencies)"
      ]
    },
    {
      "cell_type": "code",
      "execution_count": null,
      "metadata": {
        "colab": {
          "base_uri": "https://localhost:8080/"
        },
        "id": "8xtSCcQI0qom",
        "outputId": "cf50b38c-2492-4c4f-a1ac-90bce99e2390"
      },
      "outputs": [
        {
          "name": "stdout",
          "output_type": "stream",
          "text": [
            "0.8650980392156863\n"
          ]
        }
      ],
      "source": [
        "print(accuracy_score(y_test,y_pred))"
      ]
    },
    {
      "cell_type": "code",
      "execution_count": null,
      "metadata": {
        "id": "wKPmhouYwlK3"
      },
      "outputs": [],
      "source": [
        "#tn, fp, fn, tp = confusion_matrix(y_test, y_pred).ravel()\n",
        "#accuracy = (tn + tp)/(tn + fp + fn + tp)\n",
        "#print(accuracy)"
      ]
    },
    {
      "cell_type": "markdown",
      "metadata": {
        "id": "aIaP00mUylH4"
      },
      "source": [
        "## Perform KNN Classification Prediction using testing dataset"
      ]
    },
    {
      "cell_type": "code",
      "execution_count": null,
      "metadata": {
        "colab": {
          "base_uri": "https://localhost:8080/"
        },
        "id": "J3IpJLewyLHO",
        "outputId": "d057309f-e6ef-4ae1-cf32-29171f053bcc"
      },
      "outputs": [
        {
          "name": "stdout",
          "output_type": "stream",
          "text": [
            "[0 0 0 0 0 0 0 0 0 0 0 0 0 0 0 0 0 0 0 0 0 0 0 0 0 0 1 0 0 0 0 0 0 0 0 0 0\n",
            " 1 0 0 0 0 0 0 0 0 0 0 0 0 0 0 0 0 1 0 0 0 0 0 0 0 0 0 0 0 0 0 0 0 0 0 0 0\n",
            " 0 0 0 0 0 0 0 0 0 0 0 0 0 0 0 0 0 0 0 0 0 0 0 0 0 1 0 1 0 0 0 0 0 0 0 0 0\n",
            " 0 0 0 0 0 0 0 0 0 0 0 0 0 0 0 0 0 1 0 0 0 1 0 0 0 0 0 0 0 0 0 0 0 0 0 0 0\n",
            " 0 0 0 0 0 0 0 0 0 0 0 0 0 0 0 0 0 0 0 0 0 0 0 0 0 0 0 0 0 0 0 0 0 0 0 0 0\n",
            " 0 0 0 0 0 0 0 0 0 0 0 0 0 0 0 0 0 0 0 0 0 0 0 0 0 0 0 0 0 0 0 0 0 0 0 0 0\n",
            " 0 0 0 0 0 0 0 0 0 0 0 0 0 1 0 0 0 0 0 0 0 0 0 0 0 0 0 0 0 0 0 0 0 0 0 0 0\n",
            " 0 0 0 0 0 0 0 0 0 0 0 0 0 0 0 0 0 0 0 0 0 0 0 0 0 0 0 0 0 0 0 0 0 0 0 0 0\n",
            " 0 0 0 0 0 0 0 0 0 0 0 0 0 0 0 0 0 0 0 0 0 0 1 0 0 0 0 1 0 0 0 0 0 0 0 0 0\n",
            " 0 0 0 0 0 0 0 0 0 0 0 0 0 0 0 0 0 0 0 0 0 0 0 0 0 0 0 0 0 1 0 0 0 0 0 0 0\n",
            " 0 0 0 0 0 0 0 0 0 0 0 0 0 0 0 0 0 0 0 0 0 0 0 0 0 0 0 0 0 0 0 0 0 0 1 0 0\n",
            " 0 0 0 0 0 0 0 0 0 1 0 0 0 0 0 0 0 0 0 0 0 1 0 1 0 0 0 0 0 0 0 0 0 0 0 0 0\n",
            " 0 0 0 0 0 0 0 0 0 0 0 0 0 0 0 0 0 0 0 0 0 0 0 0 0 0 0 0 0 0 0 0 0 0 0 0 0\n",
            " 0 0 0 0 0 0 0 0 0 0 0 0 0 0 0 0 0 0 0 0 0 0 0 0 0 0 0 0 0 0 0 0 0 0 0 0 0\n",
            " 0 0 0 0 0 0 0 0 1 0 0 0 0 0 0 0 0 0 0 0 0 0 0 0 0 0 0 0 0 0 0 0 0 0 0 0 0\n",
            " 0 0 0 0 0 0 0 0 0 1 0 0 0 0 0 0 0 0 0 1 0 0 0 0 0 0 0 0 0 0 0 0 0 0 0 0 0\n",
            " 0 0 0 0 0 0 0 0 0 0 0 0 0 0 0 0 0 0 0 0 0 0 0 0 0 0 0 0 0 0 0 0 0 0 0 0 0\n",
            " 0 0 0 0 0 0 0 0 0 0 0 0 0 0 0 0 0 0 0 0 0 1 0 0 0 1 0 0 0 0 0 0 0 0 0 0 0\n",
            " 0 0 0 0 0 0 0 0 0 0 0 0 0 0 0 0 0 0 0 0 0 0 0 0 0 1 0 0 0 0 0 0 0 0 0 0 0\n",
            " 0 0 0 0 0 0 0 0 0 0 0 0 0 0 0 0 0 0 0 0 0 0 0 0 0 0 0 0 0 0 0 0 0 0 0 0 0\n",
            " 0 0 0 0 0 0 0 0 0 0]\n"
          ]
        }
      ],
      "source": [
        "y_pred_test1 = knn.predict(fitur_test)\n",
        "print(y_pred_test1)"
      ]
    },
    {
      "cell_type": "code",
      "execution_count": null,
      "metadata": {
        "colab": {
          "base_uri": "https://localhost:8080/"
        },
        "id": "2Umu3sJZyyJh",
        "outputId": "522ddd25-5dac-46e9-e04d-7e0045989e17"
      },
      "outputs": [
        {
          "name": "stdout",
          "output_type": "stream",
          "text": [
            "[[0.    0.972]\n",
            " [1.    0.028]]\n"
          ]
        }
      ],
      "source": [
        "(unique, counts) = np.unique(y_pred_test1, return_counts=True)\n",
        "frequencies1 = np.asarray((unique, counts/750)).T\n",
        "\n",
        "print(frequencies1)"
      ]
    },
    {
      "cell_type": "code",
      "execution_count": null,
      "metadata": {
        "colab": {
          "base_uri": "https://localhost:8080/"
        },
        "id": "_RWA95DJ0-fd",
        "outputId": "681d983f-2af0-473c-abb4-e8f941e172a0"
      },
      "outputs": [
        {
          "name": "stdout",
          "output_type": "stream",
          "text": [
            "0.8596078431372549\n"
          ]
        }
      ],
      "source": [
        "print(accuracy_score(y_test, y_pred_knn))"
      ]
    },
    {
      "cell_type": "code",
      "execution_count": null,
      "metadata": {
        "id": "5xoVrXwUy38D"
      },
      "outputs": [],
      "source": [
        "#tn, fp, fn, tp = confusion_matrix1(y_test, y_pred_knn).ravel()\n",
        "#accuracy1 = (tn + tp)/(tn + fp + fn + tp)\n",
        "#print(accuracy1)"
      ]
    },
    {
      "cell_type": "markdown",
      "metadata": {
        "id": "uLohXCUXoVbM"
      },
      "source": [
        "##Under Sampling SVM"
      ]
    },
    {
      "cell_type": "code",
      "execution_count": null,
      "metadata": {
        "colab": {
          "base_uri": "https://localhost:8080/"
        },
        "id": "7hlYDJq-nfP_",
        "outputId": "3b1cdb25-6ca6-4129-ec8c-73c956cfad8e"
      },
      "outputs": [
        {
          "data": {
            "text/plain": [
              "LinearSVC()"
            ]
          },
          "execution_count": 646,
          "metadata": {},
          "output_type": "execute_result"
        }
      ],
      "source": [
        "svc_rus = LinearSVC()\n",
        "svc_rus.fit(x_rus, y_rus)"
      ]
    },
    {
      "cell_type": "code",
      "execution_count": null,
      "metadata": {
        "id": "42-RvLADnmRN"
      },
      "outputs": [],
      "source": [
        "y_pred_rus = svc_rus.predict(x_test)"
      ]
    },
    {
      "cell_type": "code",
      "execution_count": null,
      "metadata": {
        "colab": {
          "base_uri": "https://localhost:8080/"
        },
        "id": "lFIkUri1f15s",
        "outputId": "5c16f83e-f461-4657-dd6c-fd0836b3cfec"
      },
      "outputs": [
        {
          "data": {
            "text/plain": [
              "0.8066825775656324"
            ]
          },
          "execution_count": 648,
          "metadata": {},
          "output_type": "execute_result"
        }
      ],
      "source": [
        "evaluasi_model(svc_rus, x_rus, y_rus)"
      ]
    },
    {
      "cell_type": "code",
      "execution_count": null,
      "metadata": {
        "colab": {
          "base_uri": "https://localhost:8080/"
        },
        "id": "A0uZt3ZAoptn",
        "outputId": "a48e3b48-e8f3-4ff4-ac35-fe13b1bcaa9f"
      },
      "outputs": [
        {
          "name": "stdout",
          "output_type": "stream",
          "text": [
            "[0 1 1 0 0 0 1 1 0 1 1 0 1 0 1 0 0 0 1 0 1 0 1 1 1 0 1 0 1 0 1 0 1 0 0 0 0\n",
            " 1 0 1 1 0 1 0 0 1 0 1 0 1 1 0 0 1 1 0 1 0 1 0 1 0 1 0 1 1 1 0 1 0 1 1 1 0\n",
            " 0 0 0 1 0 0 0 1 1 0 1 1 0 0 0 0 0 1 0 1 1 1 0 0 0 1 1 1 0 0 1 0 1 0 0 0 1\n",
            " 0 0 0 0 1 1 0 1 1 0 1 0 1 1 1 1 0 1 0 0 0 0 0 1 1 0 1 0 0 1 1 0 0 1 0 0 0\n",
            " 0 1 0 0 0 0 1 0 0 0 1 0 1 1 1 1 0 0 0 1 0 0 0 0 1 0 0 0 1 0 0 0 1 0 1 1 0\n",
            " 1 1 0 0 0 0 0 0 0 0 0 0 0 1 1 1 1 1 1 1 1 0 0 0 0 0 0 1 0 0 0 1 0 0 0 1 0\n",
            " 1 0 0 1 0 1 0 0 0 0 1 0 1 0 0 0 0 0 1 1 0 1 1 0 0 0 0 1 1 0 0 1 0 1 0 0 0\n",
            " 0 1 1 0 0 0 0 0 1 1 1 0 0 1 1 0 1 0 0 1 1 0 0 1 0 0 1 0 0 0 0 1 1 0 0 0 0\n",
            " 1 0 0 1 0 0 1 1 0 1 1 0 0 1 0 0 0 0 0 0 0 0 1 0 0 1 1 0 0 1 0 1 1 0 0 1 1\n",
            " 0 1 0 0 1 0 0 0 0 1 0 0 0 1 0 0 0 0 0 0 1 0 1 0 1 0 0 1 1 1 0 1 1 0 1 0 0\n",
            " 1 0 1 0 1 0 1 1 1 0 1 0 1 1 0 0 0 1 1 0 1 0 1 1 1 0 0 1 1 1 1 0 0 0 1 1 1\n",
            " 1 0 1 0 0 1 1 0 0 1 0 0 0 0 0 0 0 0 0 1 1 0 1 1 0 0 1 0 1 0 0 0 0 0 0 0 0\n",
            " 0 0 0 0 0 1 1 1 0 1 1 0 0 0 0 1 1 0 0 0 0 0 0 0 1 0 1 0 1 0 0 1 1 1 1 0 0\n",
            " 0 1 0 1 1 0 1 0 1 0 0 1 0 1 1 0 0 0 0 0 1 0 0 0 0 0 0 0 1 1 0 0 0 0 0 0 1\n",
            " 0 1 0 0 0 1 0 0 1 1 0 0 0 0 1 0 1 1 0 0 0 0 0 1 1 0 1 1 0 1 0 1 0 0 1 0 1\n",
            " 1 0 0 0 0 0 1 1 0 1 1 0 1 0 0 0 0 0 0 1 1 1 1 1 0 1 1 0 0 0 0 1 0 1 0 0 0\n",
            " 0 1 0 1 0 1 0 0 0 0 1 0 0 0 1 0 1 0 0 1 1 1 1 1 1 1 1 1 0 0 0 0 0 1 1 0 1\n",
            " 0 0 0 0 1 1 1 1 1 1 0 1 1 0 1 1 1 0 1 1 0 1 0 0 0 1 0 1 1 1 1 1 1 1 1 0 0\n",
            " 1 0 1 0 0 0 0 1 0 1 1 0 1 1 0 1 1 0 0 1 0 0 0 0 0 1 0 1 0 0 0 0 1 1 0 0 0\n",
            " 1 0 0 0 1 0 1 0 0 1 1 0 0 1 1 0 1 0 1 1 0 0 0 1 0 0 0 0 1 0 1 1 1 1 0 1 0\n",
            " 0 0 1 0 1 0 1 1 0 0]\n"
          ]
        }
      ],
      "source": [
        "y_pred_test_rus = svc_rus.predict(fitur_test)\n",
        "print(y_pred_test_rus)"
      ]
    },
    {
      "cell_type": "code",
      "execution_count": null,
      "metadata": {
        "colab": {
          "base_uri": "https://localhost:8080/"
        },
        "id": "OYUKaAZUowVo",
        "outputId": "d3c87f29-121f-44b2-a64e-93aad765e99a"
      },
      "outputs": [
        {
          "name": "stdout",
          "output_type": "stream",
          "text": [
            "[[0.   0.58]\n",
            " [1.   0.42]]\n"
          ]
        }
      ],
      "source": [
        "(unique, counts) = np.unique(y_pred_test_rus, return_counts=True)\n",
        "frequencies_rus = np.asarray((unique, counts/750)).T\n",
        "\n",
        "print(frequencies_rus)"
      ]
    },
    {
      "cell_type": "markdown",
      "metadata": {
        "id": "FCK4CCMTXPoH"
      },
      "source": [
        "## Under Sampling KNN"
      ]
    },
    {
      "cell_type": "code",
      "execution_count": null,
      "metadata": {
        "colab": {
          "base_uri": "https://localhost:8080/"
        },
        "id": "bMC3yneiXSQb",
        "outputId": "05f74b7b-e551-45c7-f446-6f48715852e1"
      },
      "outputs": [
        {
          "data": {
            "text/plain": [
              "KNeighborsClassifier()"
            ]
          },
          "execution_count": 651,
          "metadata": {},
          "output_type": "execute_result"
        }
      ],
      "source": [
        "knn_rus = KNeighborsClassifier()\n",
        "knn_rus.fit(x_rus, y_rus)"
      ]
    },
    {
      "cell_type": "code",
      "execution_count": null,
      "metadata": {
        "id": "Mvplr4gZZbg5"
      },
      "outputs": [],
      "source": [
        "y_pred_rus_knn = knn_rus.predict(x_test)"
      ]
    },
    {
      "cell_type": "code",
      "execution_count": null,
      "metadata": {
        "colab": {
          "base_uri": "https://localhost:8080/"
        },
        "id": "HWs82hVXgHG9",
        "outputId": "06d9f6a9-1f60-4f58-e4b9-f14617c38f04"
      },
      "outputs": [
        {
          "data": {
            "text/plain": [
              "0.7804295942720764"
            ]
          },
          "execution_count": 653,
          "metadata": {},
          "output_type": "execute_result"
        }
      ],
      "source": [
        "evaluasi_model(knn_rus, x_rus, y_rus)"
      ]
    },
    {
      "cell_type": "code",
      "execution_count": null,
      "metadata": {
        "colab": {
          "base_uri": "https://localhost:8080/"
        },
        "id": "OmKkvxolZrZY",
        "outputId": "19569e6f-1d66-49a3-bd66-28dfd5d552e6"
      },
      "outputs": [
        {
          "name": "stdout",
          "output_type": "stream",
          "text": [
            "[0 1 0 0 0 0 0 0 1 1 0 1 0 1 0 0 0 0 1 0 0 0 1 0 1 1 1 0 1 1 0 0 1 0 1 0 0\n",
            " 1 0 1 1 0 1 0 1 1 0 1 0 1 1 1 0 1 1 0 1 1 1 0 1 1 1 1 0 1 0 0 1 0 1 1 1 1\n",
            " 0 0 0 0 0 0 0 1 0 1 1 0 1 0 0 0 0 1 0 1 0 1 1 1 0 1 1 1 0 0 1 0 0 0 1 0 1\n",
            " 0 0 0 0 0 0 0 1 0 0 0 0 1 1 0 1 0 1 0 1 0 1 0 0 1 0 0 0 0 1 1 0 1 0 0 0 1\n",
            " 0 1 0 1 0 1 1 0 0 0 0 0 1 1 1 0 0 1 0 0 1 0 0 0 1 0 1 1 0 0 0 1 1 0 0 0 0\n",
            " 1 1 0 0 0 0 0 0 0 1 0 1 0 1 1 1 0 0 1 0 0 0 0 0 0 1 1 1 1 0 0 1 0 1 1 1 0\n",
            " 0 1 0 0 0 1 0 1 0 0 0 0 1 1 1 0 1 0 1 0 0 0 0 0 1 0 0 0 1 0 1 0 0 1 1 0 0\n",
            " 0 1 0 0 0 0 0 0 1 0 1 0 0 1 1 0 1 0 0 1 1 1 0 1 1 0 0 0 0 1 1 1 1 0 0 1 1\n",
            " 0 0 0 1 0 0 1 1 0 0 1 0 0 0 0 0 1 0 0 0 1 1 1 0 0 1 0 1 0 1 0 1 0 0 0 1 0\n",
            " 0 0 0 0 1 0 0 0 0 0 0 0 0 0 0 0 0 0 1 0 1 0 0 0 1 0 0 1 0 1 0 0 0 0 1 0 0\n",
            " 1 0 0 0 0 1 0 0 1 0 0 0 1 1 0 0 0 0 1 0 0 1 0 0 1 1 1 1 1 1 0 0 0 0 1 1 1\n",
            " 1 0 1 0 0 1 0 0 1 1 1 0 1 0 0 0 0 0 0 1 1 1 1 1 0 0 1 0 0 0 0 0 0 0 0 0 0\n",
            " 0 0 1 1 1 0 0 1 0 0 1 0 0 0 0 0 1 1 0 0 0 0 0 1 1 0 0 1 0 1 1 0 0 1 1 0 0\n",
            " 0 0 0 1 1 0 0 1 1 0 1 1 1 1 0 0 0 0 0 1 0 0 1 0 1 0 1 0 1 0 0 0 0 0 0 0 1\n",
            " 0 0 0 0 0 1 1 0 1 1 0 0 1 0 0 0 1 0 0 0 0 0 1 0 0 1 0 0 0 1 1 0 1 0 1 0 1\n",
            " 1 0 0 0 0 1 1 0 0 1 1 0 1 0 1 0 0 0 0 1 1 0 0 1 0 1 0 1 1 0 0 0 0 1 0 1 0\n",
            " 0 1 0 1 0 1 0 0 1 1 1 0 0 0 1 0 0 0 0 1 1 1 0 0 0 1 1 1 0 0 0 0 0 0 0 0 1\n",
            " 1 0 1 0 1 1 1 1 1 1 0 1 1 0 1 1 1 1 1 1 1 1 1 0 0 1 0 0 1 1 1 0 0 1 1 0 0\n",
            " 1 0 0 0 0 1 0 1 0 0 0 1 1 1 0 0 0 0 1 1 0 0 0 1 0 1 1 0 1 1 0 0 1 0 0 0 0\n",
            " 0 0 0 0 1 0 1 1 1 1 0 0 0 1 0 1 0 0 1 0 0 0 0 1 0 1 0 0 1 0 1 0 1 1 0 1 0\n",
            " 0 1 0 0 0 0 1 1 1 0]\n"
          ]
        }
      ],
      "source": [
        "y_pred_test_rus_knn = knn_rus.predict(fitur_test)\n",
        "print(y_pred_test_rus_knn)"
      ]
    },
    {
      "cell_type": "code",
      "execution_count": null,
      "metadata": {
        "colab": {
          "base_uri": "https://localhost:8080/"
        },
        "id": "wO_qpIciZxNT",
        "outputId": "78cca233-4dab-4ff5-9b1c-43d197b7379e"
      },
      "outputs": [
        {
          "name": "stdout",
          "output_type": "stream",
          "text": [
            "[[0.    0.596]\n",
            " [1.    0.404]]\n"
          ]
        }
      ],
      "source": [
        "(unique, counts) = np.unique(y_pred_test_rus_knn, return_counts=True)\n",
        "frequencies_rus_knn = np.asarray((unique, counts/750)).T\n",
        "\n",
        "print(frequencies_rus_knn)"
      ]
    },
    {
      "cell_type": "markdown",
      "metadata": {
        "id": "jjUrVSBqaNsJ"
      },
      "source": [
        "#Pipeline Process"
      ]
    },
    {
      "cell_type": "code",
      "execution_count": null,
      "metadata": {
        "colab": {
          "base_uri": "https://localhost:8080/"
        },
        "id": "wx_CcsvfaRt_",
        "outputId": "f15bb5c9-6195-420a-a71b-5f093968ce36"
      },
      "outputs": [
        {
          "data": {
            "text/html": [
              "\n",
              "  <div id=\"df-63489ba1-63b1-4b59-9268-4d7a16b6ca39\">\n",
              "    <div class=\"colab-df-container\">\n",
              "      <div>\n",
              "<style scoped>\n",
              "    .dataframe tbody tr th:only-of-type {\n",
              "        vertical-align: middle;\n",
              "    }\n",
              "\n",
              "    .dataframe tbody tr th {\n",
              "        vertical-align: top;\n",
              "    }\n",
              "\n",
              "    .dataframe thead th {\n",
              "        text-align: right;\n",
              "    }\n",
              "</style>\n",
              "<table border=\"1\" class=\"dataframe\">\n",
              "  <thead>\n",
              "    <tr style=\"text-align: right;\">\n",
              "      <th></th>\n",
              "      <th>state</th>\n",
              "      <th>account_length</th>\n",
              "      <th>area_code</th>\n",
              "      <th>international_plan</th>\n",
              "      <th>voice_mail_plan</th>\n",
              "      <th>number_vmail_messages</th>\n",
              "      <th>total_day_minutes</th>\n",
              "      <th>total_day_calls</th>\n",
              "      <th>total_day_charge</th>\n",
              "      <th>total_eve_minutes</th>\n",
              "      <th>total_eve_calls</th>\n",
              "      <th>total_eve_charge</th>\n",
              "      <th>total_night_minutes</th>\n",
              "      <th>total_night_calls</th>\n",
              "      <th>total_night_charge</th>\n",
              "      <th>total_intl_minutes</th>\n",
              "      <th>total_intl_calls</th>\n",
              "      <th>total_intl_charge</th>\n",
              "      <th>number_customer_service_calls</th>\n",
              "      <th>churn</th>\n",
              "    </tr>\n",
              "  </thead>\n",
              "  <tbody>\n",
              "    <tr>\n",
              "      <th>0</th>\n",
              "      <td>OH</td>\n",
              "      <td>107</td>\n",
              "      <td>area_code_415</td>\n",
              "      <td>no</td>\n",
              "      <td>yes</td>\n",
              "      <td>26</td>\n",
              "      <td>161.6</td>\n",
              "      <td>123</td>\n",
              "      <td>27.47</td>\n",
              "      <td>195.5</td>\n",
              "      <td>103</td>\n",
              "      <td>16.62</td>\n",
              "      <td>254.4</td>\n",
              "      <td>103</td>\n",
              "      <td>11.45</td>\n",
              "      <td>13.7</td>\n",
              "      <td>3</td>\n",
              "      <td>3.70</td>\n",
              "      <td>1</td>\n",
              "      <td>0</td>\n",
              "    </tr>\n",
              "    <tr>\n",
              "      <th>1</th>\n",
              "      <td>NJ</td>\n",
              "      <td>137</td>\n",
              "      <td>area_code_415</td>\n",
              "      <td>no</td>\n",
              "      <td>no</td>\n",
              "      <td>0</td>\n",
              "      <td>243.4</td>\n",
              "      <td>114</td>\n",
              "      <td>41.38</td>\n",
              "      <td>121.2</td>\n",
              "      <td>110</td>\n",
              "      <td>10.30</td>\n",
              "      <td>162.6</td>\n",
              "      <td>104</td>\n",
              "      <td>7.32</td>\n",
              "      <td>12.2</td>\n",
              "      <td>5</td>\n",
              "      <td>3.29</td>\n",
              "      <td>0</td>\n",
              "      <td>0</td>\n",
              "    </tr>\n",
              "    <tr>\n",
              "      <th>2</th>\n",
              "      <td>OH</td>\n",
              "      <td>84</td>\n",
              "      <td>area_code_408</td>\n",
              "      <td>yes</td>\n",
              "      <td>no</td>\n",
              "      <td>0</td>\n",
              "      <td>299.4</td>\n",
              "      <td>71</td>\n",
              "      <td>50.90</td>\n",
              "      <td>61.9</td>\n",
              "      <td>88</td>\n",
              "      <td>5.26</td>\n",
              "      <td>196.9</td>\n",
              "      <td>89</td>\n",
              "      <td>8.86</td>\n",
              "      <td>6.6</td>\n",
              "      <td>7</td>\n",
              "      <td>1.78</td>\n",
              "      <td>2</td>\n",
              "      <td>0</td>\n",
              "    </tr>\n",
              "    <tr>\n",
              "      <th>3</th>\n",
              "      <td>OK</td>\n",
              "      <td>75</td>\n",
              "      <td>area_code_415</td>\n",
              "      <td>yes</td>\n",
              "      <td>no</td>\n",
              "      <td>0</td>\n",
              "      <td>166.7</td>\n",
              "      <td>113</td>\n",
              "      <td>28.34</td>\n",
              "      <td>148.3</td>\n",
              "      <td>122</td>\n",
              "      <td>12.61</td>\n",
              "      <td>186.9</td>\n",
              "      <td>121</td>\n",
              "      <td>8.41</td>\n",
              "      <td>10.1</td>\n",
              "      <td>3</td>\n",
              "      <td>2.73</td>\n",
              "      <td>3</td>\n",
              "      <td>0</td>\n",
              "    </tr>\n",
              "    <tr>\n",
              "      <th>4</th>\n",
              "      <td>MA</td>\n",
              "      <td>121</td>\n",
              "      <td>area_code_510</td>\n",
              "      <td>no</td>\n",
              "      <td>yes</td>\n",
              "      <td>24</td>\n",
              "      <td>218.2</td>\n",
              "      <td>88</td>\n",
              "      <td>37.09</td>\n",
              "      <td>348.5</td>\n",
              "      <td>108</td>\n",
              "      <td>29.62</td>\n",
              "      <td>212.6</td>\n",
              "      <td>118</td>\n",
              "      <td>9.57</td>\n",
              "      <td>7.5</td>\n",
              "      <td>7</td>\n",
              "      <td>2.03</td>\n",
              "      <td>3</td>\n",
              "      <td>0</td>\n",
              "    </tr>\n",
              "  </tbody>\n",
              "</table>\n",
              "</div>\n",
              "      <button class=\"colab-df-convert\" onclick=\"convertToInteractive('df-63489ba1-63b1-4b59-9268-4d7a16b6ca39')\"\n",
              "              title=\"Convert this dataframe to an interactive table.\"\n",
              "              style=\"display:none;\">\n",
              "        \n",
              "  <svg xmlns=\"http://www.w3.org/2000/svg\" height=\"24px\"viewBox=\"0 0 24 24\"\n",
              "       width=\"24px\">\n",
              "    <path d=\"M0 0h24v24H0V0z\" fill=\"none\"/>\n",
              "    <path d=\"M18.56 5.44l.94 2.06.94-2.06 2.06-.94-2.06-.94-.94-2.06-.94 2.06-2.06.94zm-11 1L8.5 8.5l.94-2.06 2.06-.94-2.06-.94L8.5 2.5l-.94 2.06-2.06.94zm10 10l.94 2.06.94-2.06 2.06-.94-2.06-.94-.94-2.06-.94 2.06-2.06.94z\"/><path d=\"M17.41 7.96l-1.37-1.37c-.4-.4-.92-.59-1.43-.59-.52 0-1.04.2-1.43.59L10.3 9.45l-7.72 7.72c-.78.78-.78 2.05 0 2.83L4 21.41c.39.39.9.59 1.41.59.51 0 1.02-.2 1.41-.59l7.78-7.78 2.81-2.81c.8-.78.8-2.07 0-2.86zM5.41 20L4 18.59l7.72-7.72 1.47 1.35L5.41 20z\"/>\n",
              "  </svg>\n",
              "      </button>\n",
              "      \n",
              "  <style>\n",
              "    .colab-df-container {\n",
              "      display:flex;\n",
              "      flex-wrap:wrap;\n",
              "      gap: 12px;\n",
              "    }\n",
              "\n",
              "    .colab-df-convert {\n",
              "      background-color: #E8F0FE;\n",
              "      border: none;\n",
              "      border-radius: 50%;\n",
              "      cursor: pointer;\n",
              "      display: none;\n",
              "      fill: #1967D2;\n",
              "      height: 32px;\n",
              "      padding: 0 0 0 0;\n",
              "      width: 32px;\n",
              "    }\n",
              "\n",
              "    .colab-df-convert:hover {\n",
              "      background-color: #E2EBFA;\n",
              "      box-shadow: 0px 1px 2px rgba(60, 64, 67, 0.3), 0px 1px 3px 1px rgba(60, 64, 67, 0.15);\n",
              "      fill: #174EA6;\n",
              "    }\n",
              "\n",
              "    [theme=dark] .colab-df-convert {\n",
              "      background-color: #3B4455;\n",
              "      fill: #D2E3FC;\n",
              "    }\n",
              "\n",
              "    [theme=dark] .colab-df-convert:hover {\n",
              "      background-color: #434B5C;\n",
              "      box-shadow: 0px 1px 3px 1px rgba(0, 0, 0, 0.15);\n",
              "      filter: drop-shadow(0px 1px 2px rgba(0, 0, 0, 0.3));\n",
              "      fill: #FFFFFF;\n",
              "    }\n",
              "  </style>\n",
              "\n",
              "      <script>\n",
              "        const buttonEl =\n",
              "          document.querySelector('#df-63489ba1-63b1-4b59-9268-4d7a16b6ca39 button.colab-df-convert');\n",
              "        buttonEl.style.display =\n",
              "          google.colab.kernel.accessAllowed ? 'block' : 'none';\n",
              "\n",
              "        async function convertToInteractive(key) {\n",
              "          const element = document.querySelector('#df-63489ba1-63b1-4b59-9268-4d7a16b6ca39');\n",
              "          const dataTable =\n",
              "            await google.colab.kernel.invokeFunction('convertToInteractive',\n",
              "                                                     [key], {});\n",
              "          if (!dataTable) return;\n",
              "\n",
              "          const docLinkHtml = 'Like what you see? Visit the ' +\n",
              "            '<a target=\"_blank\" href=https://colab.research.google.com/notebooks/data_table.ipynb>data table notebook</a>'\n",
              "            + ' to learn more about interactive tables.';\n",
              "          element.innerHTML = '';\n",
              "          dataTable['output_type'] = 'display_data';\n",
              "          await google.colab.output.renderOutput(dataTable, element);\n",
              "          const docLink = document.createElement('div');\n",
              "          docLink.innerHTML = docLinkHtml;\n",
              "          element.appendChild(docLink);\n",
              "        }\n",
              "      </script>\n",
              "    </div>\n",
              "  </div>\n",
              "  "
            ],
            "text/plain": [
              "  state  account_length      area_code international_plan voice_mail_plan  \\\n",
              "0    OH             107  area_code_415                 no             yes   \n",
              "1    NJ             137  area_code_415                 no              no   \n",
              "2    OH              84  area_code_408                yes              no   \n",
              "3    OK              75  area_code_415                yes              no   \n",
              "4    MA             121  area_code_510                 no             yes   \n",
              "\n",
              "   number_vmail_messages  total_day_minutes  total_day_calls  \\\n",
              "0                     26              161.6              123   \n",
              "1                      0              243.4              114   \n",
              "2                      0              299.4               71   \n",
              "3                      0              166.7              113   \n",
              "4                     24              218.2               88   \n",
              "\n",
              "   total_day_charge  total_eve_minutes  total_eve_calls  total_eve_charge  \\\n",
              "0             27.47              195.5              103             16.62   \n",
              "1             41.38              121.2              110             10.30   \n",
              "2             50.90               61.9               88              5.26   \n",
              "3             28.34              148.3              122             12.61   \n",
              "4             37.09              348.5              108             29.62   \n",
              "\n",
              "   total_night_minutes  total_night_calls  total_night_charge  \\\n",
              "0                254.4                103               11.45   \n",
              "1                162.6                104                7.32   \n",
              "2                196.9                 89                8.86   \n",
              "3                186.9                121                8.41   \n",
              "4                212.6                118                9.57   \n",
              "\n",
              "   total_intl_minutes  total_intl_calls  total_intl_charge  \\\n",
              "0                13.7                 3               3.70   \n",
              "1                12.2                 5               3.29   \n",
              "2                 6.6                 7               1.78   \n",
              "3                10.1                 3               2.73   \n",
              "4                 7.5                 7               2.03   \n",
              "\n",
              "   number_customer_service_calls  churn  \n",
              "0                              1      0  \n",
              "1                              0      0  \n",
              "2                              2      0  \n",
              "3                              3      0  \n",
              "4                              3      0  "
            ]
          },
          "execution_count": 656,
          "metadata": {},
          "output_type": "execute_result"
        }
      ],
      "source": [
        "df_train.head()"
      ]
    },
    {
      "cell_type": "code",
      "execution_count": null,
      "metadata": {
        "id": "VbM0MCdgagGW"
      },
      "outputs": [],
      "source": [
        "dftrain, dftest = train_test_split(df_train, test_size=0.2, stratify=df_train[target_variable])"
      ]
    },
    {
      "cell_type": "code",
      "execution_count": null,
      "metadata": {
        "id": "DveIt28OanN9"
      },
      "outputs": [],
      "source": [
        "y_train = dftrain[target_variable]\n",
        "x_train = dftrain.drop(columns=target_variable)\n",
        "\n",
        "y_test = dftest[target_variable]\n",
        "x_test = dftest.drop(columns=target_variable)"
      ]
    },
    {
      "cell_type": "code",
      "execution_count": null,
      "metadata": {
        "colab": {
          "base_uri": "https://localhost:8080/"
        },
        "id": "yem0Uj2kau8l",
        "outputId": "eec9b3fa-81e7-4dab-fb33-c6f209f8be56"
      },
      "outputs": [
        {
          "name": "stdout",
          "output_type": "stream",
          "text": [
            "Looking in indexes: https://pypi.org/simple, https://us-python.pkg.dev/colab-wheels/public/simple/\n",
            "Requirement already satisfied: category_encoders in /usr/local/lib/python3.7/dist-packages (2.5.1.post0)\n",
            "Requirement already satisfied: pandas>=1.0.5 in /usr/local/lib/python3.7/dist-packages (from category_encoders) (1.3.5)\n",
            "Requirement already satisfied: scikit-learn>=0.20.0 in /usr/local/lib/python3.7/dist-packages (from category_encoders) (1.0.2)\n",
            "Requirement already satisfied: statsmodels>=0.9.0 in /usr/local/lib/python3.7/dist-packages (from category_encoders) (0.12.2)\n",
            "Requirement already satisfied: numpy>=1.14.0 in /usr/local/lib/python3.7/dist-packages (from category_encoders) (1.21.6)\n",
            "Requirement already satisfied: patsy>=0.5.1 in /usr/local/lib/python3.7/dist-packages (from category_encoders) (0.5.3)\n",
            "Requirement already satisfied: scipy>=1.0.0 in /usr/local/lib/python3.7/dist-packages (from category_encoders) (1.7.3)\n",
            "Requirement already satisfied: python-dateutil>=2.7.3 in /usr/local/lib/python3.7/dist-packages (from pandas>=1.0.5->category_encoders) (2.8.2)\n",
            "Requirement already satisfied: pytz>=2017.3 in /usr/local/lib/python3.7/dist-packages (from pandas>=1.0.5->category_encoders) (2022.4)\n",
            "Requirement already satisfied: six in /usr/local/lib/python3.7/dist-packages (from patsy>=0.5.1->category_encoders) (1.15.0)\n",
            "Requirement already satisfied: joblib>=0.11 in /usr/local/lib/python3.7/dist-packages (from scikit-learn>=0.20.0->category_encoders) (1.2.0)\n",
            "Requirement already satisfied: threadpoolctl>=2.0.0 in /usr/local/lib/python3.7/dist-packages (from scikit-learn>=0.20.0->category_encoders) (3.1.0)\n"
          ]
        }
      ],
      "source": [
        "!pip install category_encoders"
      ]
    },
    {
      "cell_type": "markdown",
      "metadata": {
        "id": "0y7csZzTax3Q"
      },
      "source": [
        "##Define Preprocess Using Column Transformer"
      ]
    },
    {
      "cell_type": "code",
      "execution_count": null,
      "metadata": {
        "id": "0Jc0Py5aa6b6"
      },
      "outputs": [],
      "source": [
        "from sklearn.preprocessing import OneHotEncoder, StandardScaler, MinMaxScaler\n",
        "from sklearn.compose import ColumnTransformer\n",
        "from imblearn.ensemble import *\n",
        "from category_encoders import *\n",
        "from sklearn.linear_model import LogisticRegression\n",
        "from sklearn.ensemble import RandomForestClassifier, GradientBoostingClassifier, AdaBoostClassifier\n",
        "\n",
        "\n",
        "preprocess = ColumnTransformer(\n",
        "    [\n",
        "        ('categorical', BaseNEncoder(), cat_col),\n",
        "        ('scaler', MinMaxScaler(), num_col)\n",
        "    ],\n",
        "    remainder='passthrough'\n",
        ")\n",
        "\n",
        "clf_list = [KNeighborsClassifier(), LinearSVC(random_state=123)]"
      ]
    },
    {
      "cell_type": "markdown",
      "metadata": {
        "id": "SUYpdVBCbSS5"
      },
      "source": [
        "##Define Pipeline"
      ]
    },
    {
      "cell_type": "code",
      "execution_count": null,
      "metadata": {
        "colab": {
          "base_uri": "https://localhost:8080/"
        },
        "id": "zS_TcxD5bRLp",
        "outputId": "42d52c35-5d2c-455a-9a1c-8ef00b8555a2"
      },
      "outputs": [
        {
          "name": "stdout",
          "output_type": "stream",
          "text": [
            "KNeighborsClassifier\n",
            "LinearSVC\n"
          ]
        }
      ],
      "source": [
        "from imblearn.pipeline import Pipeline\n",
        "from sklearn.metrics import accuracy_score, roc_auc_score, precision_score, recall_score,f1_score\n",
        "from imblearn.under_sampling import RandomUnderSampler\n",
        "\n",
        "def get_score(model, fitur_train, label_train):\n",
        "    pred = model.predict(fitur_train)\n",
        "    auc = roc_auc_score(label_train, pred)\n",
        "    prec = precision_score(label_train, pred)\n",
        "    rec = recall_score(label_train, pred)\n",
        "    return auc, prec, rec\n",
        "\n",
        "train_scores = []\n",
        "test_scores = []\n",
        "models = []\n",
        "for clf in clf_list:\n",
        "    model = Pipeline(\n",
        "        [\n",
        "            ('preprocessor', preprocess),\n",
        "            # ('rus', RandomUnderSampler()), #silakan dmainkan bagian sini, coba tes dengan RUS atau tanpa RUS\n",
        "            ('clf', clf)\n",
        "        ]\n",
        "    )\n",
        "    model.fit(x_train, y_train)\n",
        "    train_score = get_score(model, x_train, y_train)\n",
        "    test_score = get_score(model, x_test, y_test)\n",
        "    \n",
        "    train_scores.append(train_score)\n",
        "    test_scores.append(test_score)\n",
        "    \n",
        "    print(type(clf).__name__)\n",
        "    models.append(type(clf).__name__)"
      ]
    },
    {
      "cell_type": "markdown",
      "metadata": {
        "id": "8dRaiRdGJFmY"
      },
      "source": [
        "## Evaluasi Model"
      ]
    },
    {
      "cell_type": "code",
      "execution_count": null,
      "metadata": {
        "id": "xYeiT1YybcNH"
      },
      "outputs": [],
      "source": [
        "df_eval = pd.DataFrame()\n",
        "df_eval['model'] = models\n",
        "df_eval['train_auc'] = [x[0] for x in train_scores]\n",
        "df_eval['train_precision'] = [x[1] for x in train_scores]\n",
        "df_eval['train_recall'] = [x[2] for x in train_scores]\n",
        "df_eval['test_auc'] = [x[0] for x in test_scores]\n",
        "df_eval['test_precision'] = [x[1] for x in test_scores]\n",
        "df_eval['test_recall'] = [x[2] for x in test_scores]"
      ]
    },
    {
      "cell_type": "code",
      "execution_count": null,
      "metadata": {
        "colab": {
          "base_uri": "https://localhost:8080/"
        },
        "id": "d2_hEj4jbeQC",
        "outputId": "f8503ca8-91ac-43bc-b0ac-6783fa52c55b"
      },
      "outputs": [
        {
          "data": {
            "text/html": [
              "\n",
              "  <div id=\"df-43f77c38-1581-452b-b98a-1fb56b492088\">\n",
              "    <div class=\"colab-df-container\">\n",
              "      <div>\n",
              "<style scoped>\n",
              "    .dataframe tbody tr th:only-of-type {\n",
              "        vertical-align: middle;\n",
              "    }\n",
              "\n",
              "    .dataframe tbody tr th {\n",
              "        vertical-align: top;\n",
              "    }\n",
              "\n",
              "    .dataframe thead th {\n",
              "        text-align: right;\n",
              "    }\n",
              "</style>\n",
              "<table border=\"1\" class=\"dataframe\">\n",
              "  <thead>\n",
              "    <tr style=\"text-align: right;\">\n",
              "      <th></th>\n",
              "      <th>model</th>\n",
              "      <th>train_auc</th>\n",
              "      <th>train_precision</th>\n",
              "      <th>train_recall</th>\n",
              "      <th>test_auc</th>\n",
              "      <th>test_precision</th>\n",
              "      <th>test_recall</th>\n",
              "    </tr>\n",
              "  </thead>\n",
              "  <tbody>\n",
              "    <tr>\n",
              "      <th>0</th>\n",
              "      <td>KNeighborsClassifier</td>\n",
              "      <td>0.625468</td>\n",
              "      <td>0.773006</td>\n",
              "      <td>0.263598</td>\n",
              "      <td>0.555651</td>\n",
              "      <td>0.60</td>\n",
              "      <td>0.125</td>\n",
              "    </tr>\n",
              "    <tr>\n",
              "      <th>1</th>\n",
              "      <td>LinearSVC</td>\n",
              "      <td>0.565693</td>\n",
              "      <td>0.614035</td>\n",
              "      <td>0.146444</td>\n",
              "      <td>0.570205</td>\n",
              "      <td>0.72</td>\n",
              "      <td>0.150</td>\n",
              "    </tr>\n",
              "  </tbody>\n",
              "</table>\n",
              "</div>\n",
              "      <button class=\"colab-df-convert\" onclick=\"convertToInteractive('df-43f77c38-1581-452b-b98a-1fb56b492088')\"\n",
              "              title=\"Convert this dataframe to an interactive table.\"\n",
              "              style=\"display:none;\">\n",
              "        \n",
              "  <svg xmlns=\"http://www.w3.org/2000/svg\" height=\"24px\"viewBox=\"0 0 24 24\"\n",
              "       width=\"24px\">\n",
              "    <path d=\"M0 0h24v24H0V0z\" fill=\"none\"/>\n",
              "    <path d=\"M18.56 5.44l.94 2.06.94-2.06 2.06-.94-2.06-.94-.94-2.06-.94 2.06-2.06.94zm-11 1L8.5 8.5l.94-2.06 2.06-.94-2.06-.94L8.5 2.5l-.94 2.06-2.06.94zm10 10l.94 2.06.94-2.06 2.06-.94-2.06-.94-.94-2.06-.94 2.06-2.06.94z\"/><path d=\"M17.41 7.96l-1.37-1.37c-.4-.4-.92-.59-1.43-.59-.52 0-1.04.2-1.43.59L10.3 9.45l-7.72 7.72c-.78.78-.78 2.05 0 2.83L4 21.41c.39.39.9.59 1.41.59.51 0 1.02-.2 1.41-.59l7.78-7.78 2.81-2.81c.8-.78.8-2.07 0-2.86zM5.41 20L4 18.59l7.72-7.72 1.47 1.35L5.41 20z\"/>\n",
              "  </svg>\n",
              "      </button>\n",
              "      \n",
              "  <style>\n",
              "    .colab-df-container {\n",
              "      display:flex;\n",
              "      flex-wrap:wrap;\n",
              "      gap: 12px;\n",
              "    }\n",
              "\n",
              "    .colab-df-convert {\n",
              "      background-color: #E8F0FE;\n",
              "      border: none;\n",
              "      border-radius: 50%;\n",
              "      cursor: pointer;\n",
              "      display: none;\n",
              "      fill: #1967D2;\n",
              "      height: 32px;\n",
              "      padding: 0 0 0 0;\n",
              "      width: 32px;\n",
              "    }\n",
              "\n",
              "    .colab-df-convert:hover {\n",
              "      background-color: #E2EBFA;\n",
              "      box-shadow: 0px 1px 2px rgba(60, 64, 67, 0.3), 0px 1px 3px 1px rgba(60, 64, 67, 0.15);\n",
              "      fill: #174EA6;\n",
              "    }\n",
              "\n",
              "    [theme=dark] .colab-df-convert {\n",
              "      background-color: #3B4455;\n",
              "      fill: #D2E3FC;\n",
              "    }\n",
              "\n",
              "    [theme=dark] .colab-df-convert:hover {\n",
              "      background-color: #434B5C;\n",
              "      box-shadow: 0px 1px 3px 1px rgba(0, 0, 0, 0.15);\n",
              "      filter: drop-shadow(0px 1px 2px rgba(0, 0, 0, 0.3));\n",
              "      fill: #FFFFFF;\n",
              "    }\n",
              "  </style>\n",
              "\n",
              "      <script>\n",
              "        const buttonEl =\n",
              "          document.querySelector('#df-43f77c38-1581-452b-b98a-1fb56b492088 button.colab-df-convert');\n",
              "        buttonEl.style.display =\n",
              "          google.colab.kernel.accessAllowed ? 'block' : 'none';\n",
              "\n",
              "        async function convertToInteractive(key) {\n",
              "          const element = document.querySelector('#df-43f77c38-1581-452b-b98a-1fb56b492088');\n",
              "          const dataTable =\n",
              "            await google.colab.kernel.invokeFunction('convertToInteractive',\n",
              "                                                     [key], {});\n",
              "          if (!dataTable) return;\n",
              "\n",
              "          const docLinkHtml = 'Like what you see? Visit the ' +\n",
              "            '<a target=\"_blank\" href=https://colab.research.google.com/notebooks/data_table.ipynb>data table notebook</a>'\n",
              "            + ' to learn more about interactive tables.';\n",
              "          element.innerHTML = '';\n",
              "          dataTable['output_type'] = 'display_data';\n",
              "          await google.colab.output.renderOutput(dataTable, element);\n",
              "          const docLink = document.createElement('div');\n",
              "          docLink.innerHTML = docLinkHtml;\n",
              "          element.appendChild(docLink);\n",
              "        }\n",
              "      </script>\n",
              "    </div>\n",
              "  </div>\n",
              "  "
            ],
            "text/plain": [
              "                  model  train_auc  train_precision  train_recall  test_auc  \\\n",
              "0  KNeighborsClassifier   0.625468         0.773006      0.263598  0.555651   \n",
              "1             LinearSVC   0.565693         0.614035      0.146444  0.570205   \n",
              "\n",
              "   test_precision  test_recall  \n",
              "0            0.60        0.125  \n",
              "1            0.72        0.150  "
            ]
          },
          "execution_count": 663,
          "metadata": {},
          "output_type": "execute_result"
        }
      ],
      "source": [
        "df_eval"
      ]
    },
    {
      "cell_type": "code",
      "execution_count": null,
      "metadata": {
        "id": "sRMGKwCWJJzd"
      },
      "outputs": [],
      "source": [
        "from sklearn.model_selection import GridSearchCV\n",
        "from sklearn.linear_model import SGDClassifier\n",
        "from sklearn.metrics import roc_curve, auc"
      ]
    }
  ],
  "metadata": {
    "colab": {
      "collapsed_sections": [
        "mH-7xifmphKs",
        "4SvzPR25qWue",
        "bvb_XEpD3UA-",
        "VAKqncvMPrgc",
        "jhPn4eGKheLo",
        "NICbeICnNTq2",
        "9NhIX2e2VFNg",
        "06BVL3VYcRBc",
        "jjUrVSBqaNsJ"
      ],
      "toc_visible": true,
      "provenance": []
    },
    "kernelspec": {
      "display_name": "Python 3",
      "name": "python3"
    },
    "language_info": {
      "name": "python"
    }
  },
  "nbformat": 4,
  "nbformat_minor": 0
}